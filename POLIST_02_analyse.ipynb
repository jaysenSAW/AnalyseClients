{
 "cells": [
  {
   "cell_type": "markdown",
   "metadata": {},
   "source": [
    "Votre mission est d’aider les équipes d’Olist à comprendre les différents types d'utilisateurs. Vous utiliserez donc des méthodes non supervisées pour regrouper ensemble des clients de profils similaires. Ces catégories pourront être utilisées par l’équipe marketing pour mieux communiquer.\n",
    "\n",
    "Votre client, Olist, a spécifié sa demande ainsi :\n",
    "* La segmentation proposée doit être exploitable et facile d’utilisation pour l’équipe marketing.\n",
    "* Vous évaluerez la fréquence à laquelle la segmentation doit être mise à jour, afin de pouvoir effectuer un devis de contrat de maintenance.\n",
    "* Le code fourni doit respecter la convention PEP8, pour être utilisable par Olist."
   ]
  },
  {
   "cell_type": "code",
   "execution_count": 1,
   "metadata": {},
   "outputs": [],
   "source": [
    "import numpy as np\n",
    "import matplotlib.pyplot as plt\n",
    "import seaborn as sns\n",
    "import pandas as pd\n",
    "import os\n",
    "pd.set_option('display.max_columns', None)\n",
    "from sklearn import preprocessing\n",
    "from sklearn import decomposition\n",
    "import plotly\n",
    "import plotly.express as px\n",
    "from mpl_toolkits.mplot3d import Axes3D\n",
    "from matplotlib.ticker import NullFormatter\n",
    "from sklearn.manifold import Isomap\n",
    "from sklearn.manifold import LocallyLinearEmbedding\n",
    "from scipy.stats import mannwhitneyu\n"
   ]
  },
  {
   "cell_type": "code",
   "execution_count": 2,
   "metadata": {},
   "outputs": [],
   "source": [
    "def distance_IQ(dt, q1=0.25, q3=0.75):\n",
    "    \"\"\"\n",
    "    Compute interquantile value and return number\n",
    "    of elements \n",
    "        * Above Q3 + 1.5*IQ\n",
    "        * Bellow Q1 - 1*5 IQ\n",
    "    Arguments:\n",
    "        _dt: dataFrame (pandas)\n",
    "        _q1: first quantile (default 0.25)\n",
    "        _q3: third quantile (default 0.75)\n",
    "    \"\"\"\n",
    "    q1 = dt.quantile(q1)\n",
    "    q3 = dt.quantile(q3)\n",
    "    IQ = q3-q1\n",
    "    count = dt[dt < q1 - 1.5* IQ ].count() \n",
    "    print(\"Element {0} bellow Q1 - 1.5 * IQ ({1:.2f})\".format(count, q1 - 1.5* IQ))\n",
    "    count = dt[dt > q3 + 1.5* IQ ].count() \n",
    "    print(\"Element {0} above Q3 + 1.5 * IQ ({1:.2f})\".format(count ,q3 + 1.5 * IQ))"
   ]
  },
  {
   "cell_type": "code",
   "execution_count": 3,
   "metadata": {},
   "outputs": [],
   "source": [
    "def compare_time(timeSerie, referenceTime = None):\n",
    "    \"\"\"\n",
    "    Difference between 2 time series\n",
    "    Return \n",
    "        time series (days)\n",
    "    \"\"\"\n",
    "    if referenceTime is None:\n",
    "        referenceTime = pd.Timestamp.today()\n",
    "    return referenceTime - timeSerie "
   ]
  },
  {
   "cell_type": "code",
   "execution_count": 4,
   "metadata": {},
   "outputs": [],
   "source": [
    "def scatter_plot(dt, label1, label2, title, path = None):\n",
    "    x = dt.loc[:,label1].to_numpy()\n",
    "    y = dt.loc[:,label2].to_numpy()\n",
    "    sns.jointplot(data=dt, x = label1, y= label2,  marker=\"+\", s=100, marginal_kws=dict(bins=60))\n",
    "    #sns.jointplot(data=dt, x = label1, y= label2, kind=\"kde\")\n",
    "    plt.title(title, size = 20)\n",
    "    if path is not None:\n",
    "        plt.savefig(path)\n",
    "    #ax.legend(loc='best')\n",
    "    plt.show()"
   ]
  },
  {
   "cell_type": "code",
   "execution_count": 5,
   "metadata": {},
   "outputs": [],
   "source": [
    "def rootline_mannwhitneyu(X1, X2, alpha = 0.05):\n",
    "    \"\"\"\n",
    "    Non parametric test. Compare two distribution\n",
    "    Hypothesis:\n",
    "        H0: Sample distribution are equal\n",
    "        H1: Sample distribution are not equal\n",
    "    Arguments:\n",
    "        X1: first sample (1D array)\n",
    "        X2: second sample (1D array)\n",
    "        alpha: risk (to reject or no H0)\n",
    "    \"\"\"\n",
    "    stat, p = mannwhitneyu(X1, X2)\n",
    "    print('Statistics={0:.3f}, p={1}'.format(stat, p))\n",
    "    # interpret\n",
    "    alpha = 0.05\n",
    "    if p > alpha:\n",
    "        print('Same distribution (fail to reject H0)')\n",
    "    else:\n",
    "        print('Different distribution (reject H0)')\n",
    "\n",
    "\n"
   ]
  },
  {
   "cell_type": "markdown",
   "metadata": {},
   "source": [
    "# Importation des données"
   ]
  },
  {
   "cell_type": "code",
   "execution_count": 6,
   "metadata": {},
   "outputs": [
    {
     "data": {
      "text/plain": [
       "customer_id                              object\n",
       "customer_unique_id                       object\n",
       "customer_zip_code_prefix                  int64\n",
       "customer_city                            object\n",
       "customer_state                           object\n",
       "order_id                                 object\n",
       "order_purchase_timestamp         datetime64[ns]\n",
       "order_delivered_customer_date    datetime64[ns]\n",
       "price                                   float64\n",
       "freight_proportion_price                float64\n",
       "payment_installments                    float64\n",
       "payment_value                           float64\n",
       "boleto                                  float64\n",
       "credit_card                             float64\n",
       "debit_card                              float64\n",
       "not_defined                             float64\n",
       "voucher                                 float64\n",
       "weight                                  float64\n",
       "quantity                                float64\n",
       "review_score                            float64\n",
       "dtype: object"
      ]
     },
     "execution_count": 6,
     "metadata": {},
     "output_type": "execute_result"
    }
   ],
   "source": [
    "#on spécifie les colonnes qui correspodnent à des dates\n",
    "df = pd.read_csv(\"achat_data.csv\", infer_datetime_format = True, parse_dates = [6,7])\n",
    "df = df.dropna(axis=0)\n",
    "df.dtypes"
   ]
  },
  {
   "cell_type": "code",
   "execution_count": 7,
   "metadata": {},
   "outputs": [
    {
     "data": {
      "text/html": [
       "<div>\n",
       "<style scoped>\n",
       "    .dataframe tbody tr th:only-of-type {\n",
       "        vertical-align: middle;\n",
       "    }\n",
       "\n",
       "    .dataframe tbody tr th {\n",
       "        vertical-align: top;\n",
       "    }\n",
       "\n",
       "    .dataframe thead th {\n",
       "        text-align: right;\n",
       "    }\n",
       "</style>\n",
       "<table border=\"1\" class=\"dataframe\">\n",
       "  <thead>\n",
       "    <tr style=\"text-align: right;\">\n",
       "      <th></th>\n",
       "      <th>customer_zip_code_prefix</th>\n",
       "      <th>price</th>\n",
       "      <th>freight_proportion_price</th>\n",
       "      <th>payment_installments</th>\n",
       "      <th>payment_value</th>\n",
       "      <th>boleto</th>\n",
       "      <th>credit_card</th>\n",
       "      <th>debit_card</th>\n",
       "      <th>not_defined</th>\n",
       "      <th>voucher</th>\n",
       "      <th>weight</th>\n",
       "      <th>quantity</th>\n",
       "      <th>review_score</th>\n",
       "    </tr>\n",
       "  </thead>\n",
       "  <tbody>\n",
       "    <tr>\n",
       "      <th>count</th>\n",
       "      <td>96475.000000</td>\n",
       "      <td>96475.000000</td>\n",
       "      <td>96475.000000</td>\n",
       "      <td>96475.000000</td>\n",
       "      <td>96475.000000</td>\n",
       "      <td>96475.000000</td>\n",
       "      <td>96475.000000</td>\n",
       "      <td>96475.000000</td>\n",
       "      <td>96475.0</td>\n",
       "      <td>96475.000000</td>\n",
       "      <td>96475.000000</td>\n",
       "      <td>96475.000000</td>\n",
       "      <td>96475.000000</td>\n",
       "    </tr>\n",
       "    <tr>\n",
       "      <th>mean</th>\n",
       "      <td>35199.179912</td>\n",
       "      <td>137.038198</td>\n",
       "      <td>0.288172</td>\n",
       "      <td>2.912126</td>\n",
       "      <td>157.211337</td>\n",
       "      <td>0.198922</td>\n",
       "      <td>0.758017</td>\n",
       "      <td>0.015377</td>\n",
       "      <td>0.0</td>\n",
       "      <td>0.027684</td>\n",
       "      <td>2386.390267</td>\n",
       "      <td>1.142006</td>\n",
       "      <td>4.142598</td>\n",
       "    </tr>\n",
       "    <tr>\n",
       "      <th>std</th>\n",
       "      <td>29839.686571</td>\n",
       "      <td>209.048174</td>\n",
       "      <td>0.298835</td>\n",
       "      <td>2.697252</td>\n",
       "      <td>216.159426</td>\n",
       "      <td>0.399191</td>\n",
       "      <td>0.421896</td>\n",
       "      <td>0.123037</td>\n",
       "      <td>0.0</td>\n",
       "      <td>0.146586</td>\n",
       "      <td>4769.702643</td>\n",
       "      <td>0.538969</td>\n",
       "      <td>1.295325</td>\n",
       "    </tr>\n",
       "    <tr>\n",
       "      <th>min</th>\n",
       "      <td>1003.000000</td>\n",
       "      <td>0.850000</td>\n",
       "      <td>0.000000</td>\n",
       "      <td>0.000000</td>\n",
       "      <td>1.737500</td>\n",
       "      <td>0.000000</td>\n",
       "      <td>0.000000</td>\n",
       "      <td>0.000000</td>\n",
       "      <td>0.0</td>\n",
       "      <td>0.000000</td>\n",
       "      <td>0.000000</td>\n",
       "      <td>0.000000</td>\n",
       "      <td>1.000000</td>\n",
       "    </tr>\n",
       "    <tr>\n",
       "      <th>25%</th>\n",
       "      <td>11355.000000</td>\n",
       "      <td>45.900000</td>\n",
       "      <td>0.119953</td>\n",
       "      <td>1.000000</td>\n",
       "      <td>60.100000</td>\n",
       "      <td>0.000000</td>\n",
       "      <td>0.500000</td>\n",
       "      <td>0.000000</td>\n",
       "      <td>0.0</td>\n",
       "      <td>0.000000</td>\n",
       "      <td>300.000000</td>\n",
       "      <td>1.000000</td>\n",
       "      <td>4.000000</td>\n",
       "    </tr>\n",
       "    <tr>\n",
       "      <th>50%</th>\n",
       "      <td>24436.000000</td>\n",
       "      <td>86.500000</td>\n",
       "      <td>0.205396</td>\n",
       "      <td>2.000000</td>\n",
       "      <td>103.140000</td>\n",
       "      <td>0.000000</td>\n",
       "      <td>1.000000</td>\n",
       "      <td>0.000000</td>\n",
       "      <td>0.0</td>\n",
       "      <td>0.000000</td>\n",
       "      <td>750.000000</td>\n",
       "      <td>1.000000</td>\n",
       "      <td>5.000000</td>\n",
       "    </tr>\n",
       "    <tr>\n",
       "      <th>75%</th>\n",
       "      <td>59056.000000</td>\n",
       "      <td>149.900000</td>\n",
       "      <td>0.353797</td>\n",
       "      <td>4.000000</td>\n",
       "      <td>174.330000</td>\n",
       "      <td>0.000000</td>\n",
       "      <td>1.000000</td>\n",
       "      <td>0.000000</td>\n",
       "      <td>0.0</td>\n",
       "      <td>0.000000</td>\n",
       "      <td>2050.000000</td>\n",
       "      <td>1.000000</td>\n",
       "      <td>5.000000</td>\n",
       "    </tr>\n",
       "    <tr>\n",
       "      <th>max</th>\n",
       "      <td>99980.000000</td>\n",
       "      <td>13440.000000</td>\n",
       "      <td>21.447059</td>\n",
       "      <td>24.000000</td>\n",
       "      <td>13664.080000</td>\n",
       "      <td>1.000000</td>\n",
       "      <td>1.000000</td>\n",
       "      <td>1.000000</td>\n",
       "      <td>0.0</td>\n",
       "      <td>1.000000</td>\n",
       "      <td>184400.000000</td>\n",
       "      <td>21.000000</td>\n",
       "      <td>5.000000</td>\n",
       "    </tr>\n",
       "  </tbody>\n",
       "</table>\n",
       "</div>"
      ],
      "text/plain": [
       "       customer_zip_code_prefix         price  freight_proportion_price  \\\n",
       "count              96475.000000  96475.000000              96475.000000   \n",
       "mean               35199.179912    137.038198                  0.288172   \n",
       "std                29839.686571    209.048174                  0.298835   \n",
       "min                 1003.000000      0.850000                  0.000000   \n",
       "25%                11355.000000     45.900000                  0.119953   \n",
       "50%                24436.000000     86.500000                  0.205396   \n",
       "75%                59056.000000    149.900000                  0.353797   \n",
       "max                99980.000000  13440.000000                 21.447059   \n",
       "\n",
       "       payment_installments  payment_value        boleto   credit_card  \\\n",
       "count          96475.000000   96475.000000  96475.000000  96475.000000   \n",
       "mean               2.912126     157.211337      0.198922      0.758017   \n",
       "std                2.697252     216.159426      0.399191      0.421896   \n",
       "min                0.000000       1.737500      0.000000      0.000000   \n",
       "25%                1.000000      60.100000      0.000000      0.500000   \n",
       "50%                2.000000     103.140000      0.000000      1.000000   \n",
       "75%                4.000000     174.330000      0.000000      1.000000   \n",
       "max               24.000000   13664.080000      1.000000      1.000000   \n",
       "\n",
       "         debit_card  not_defined       voucher         weight      quantity  \\\n",
       "count  96475.000000      96475.0  96475.000000   96475.000000  96475.000000   \n",
       "mean       0.015377          0.0      0.027684    2386.390267      1.142006   \n",
       "std        0.123037          0.0      0.146586    4769.702643      0.538969   \n",
       "min        0.000000          0.0      0.000000       0.000000      0.000000   \n",
       "25%        0.000000          0.0      0.000000     300.000000      1.000000   \n",
       "50%        0.000000          0.0      0.000000     750.000000      1.000000   \n",
       "75%        0.000000          0.0      0.000000    2050.000000      1.000000   \n",
       "max        1.000000          0.0      1.000000  184400.000000     21.000000   \n",
       "\n",
       "       review_score  \n",
       "count  96475.000000  \n",
       "mean       4.142598  \n",
       "std        1.295325  \n",
       "min        1.000000  \n",
       "25%        4.000000  \n",
       "50%        5.000000  \n",
       "75%        5.000000  \n",
       "max        5.000000  "
      ]
     },
     "execution_count": 7,
     "metadata": {},
     "output_type": "execute_result"
    }
   ],
   "source": [
    "df.describe()"
   ]
  },
  {
   "cell_type": "code",
   "execution_count": 8,
   "metadata": {},
   "outputs": [
    {
     "data": {
      "text/html": [
       "<div>\n",
       "<style scoped>\n",
       "    .dataframe tbody tr th:only-of-type {\n",
       "        vertical-align: middle;\n",
       "    }\n",
       "\n",
       "    .dataframe tbody tr th {\n",
       "        vertical-align: top;\n",
       "    }\n",
       "\n",
       "    .dataframe thead th {\n",
       "        text-align: right;\n",
       "    }\n",
       "</style>\n",
       "<table border=\"1\" class=\"dataframe\">\n",
       "  <thead>\n",
       "    <tr style=\"text-align: right;\">\n",
       "      <th></th>\n",
       "      <th>customer_id</th>\n",
       "      <th>customer_unique_id</th>\n",
       "      <th>customer_zip_code_prefix</th>\n",
       "      <th>customer_city</th>\n",
       "      <th>customer_state</th>\n",
       "      <th>order_id</th>\n",
       "      <th>order_purchase_timestamp</th>\n",
       "      <th>order_delivered_customer_date</th>\n",
       "      <th>price</th>\n",
       "      <th>freight_proportion_price</th>\n",
       "      <th>payment_installments</th>\n",
       "      <th>payment_value</th>\n",
       "      <th>boleto</th>\n",
       "      <th>credit_card</th>\n",
       "      <th>debit_card</th>\n",
       "      <th>not_defined</th>\n",
       "      <th>voucher</th>\n",
       "      <th>weight</th>\n",
       "      <th>quantity</th>\n",
       "      <th>review_score</th>\n",
       "    </tr>\n",
       "  </thead>\n",
       "  <tbody>\n",
       "    <tr>\n",
       "      <th>0</th>\n",
       "      <td>06b8999e2fba1a1fbc88172c00ba8bc7</td>\n",
       "      <td>861eff4711a542e4b93843c6dd7febb0</td>\n",
       "      <td>14409</td>\n",
       "      <td>franca</td>\n",
       "      <td>SP</td>\n",
       "      <td>00e7ee1b050b8499577073aeb2a297a1</td>\n",
       "      <td>2017-05-16 15:05:35</td>\n",
       "      <td>2017-05-25 10:35:35</td>\n",
       "      <td>124.99</td>\n",
       "      <td>0.175054</td>\n",
       "      <td>2.0</td>\n",
       "      <td>146.87</td>\n",
       "      <td>0.0</td>\n",
       "      <td>1.0</td>\n",
       "      <td>0.0</td>\n",
       "      <td>0.0</td>\n",
       "      <td>0.0</td>\n",
       "      <td>8683.0</td>\n",
       "      <td>1.0</td>\n",
       "      <td>4.0</td>\n",
       "    </tr>\n",
       "    <tr>\n",
       "      <th>1</th>\n",
       "      <td>18955e83d337fd6b2def6b18a428ac77</td>\n",
       "      <td>290c77bc529b7ac935b93aa66c333dc3</td>\n",
       "      <td>9790</td>\n",
       "      <td>sao bernardo do campo</td>\n",
       "      <td>SP</td>\n",
       "      <td>29150127e6685892b6eab3eec79f59c7</td>\n",
       "      <td>2018-01-12 20:48:24</td>\n",
       "      <td>2018-01-29 12:41:19</td>\n",
       "      <td>289.00</td>\n",
       "      <td>0.160830</td>\n",
       "      <td>8.0</td>\n",
       "      <td>335.48</td>\n",
       "      <td>0.0</td>\n",
       "      <td>1.0</td>\n",
       "      <td>0.0</td>\n",
       "      <td>0.0</td>\n",
       "      <td>0.0</td>\n",
       "      <td>10150.0</td>\n",
       "      <td>1.0</td>\n",
       "      <td>5.0</td>\n",
       "    </tr>\n",
       "    <tr>\n",
       "      <th>2</th>\n",
       "      <td>4e7b3e00288586ebd08712fdd0374a03</td>\n",
       "      <td>060e732b5b29e8181a18229c7b0b2b5e</td>\n",
       "      <td>1151</td>\n",
       "      <td>sao paulo</td>\n",
       "      <td>SP</td>\n",
       "      <td>b2059ed67ce144a36e2aa97d2c9e9ad2</td>\n",
       "      <td>2018-05-19 16:07:45</td>\n",
       "      <td>2018-06-14 17:58:51</td>\n",
       "      <td>139.94</td>\n",
       "      <td>0.127126</td>\n",
       "      <td>7.0</td>\n",
       "      <td>157.73</td>\n",
       "      <td>0.0</td>\n",
       "      <td>1.0</td>\n",
       "      <td>0.0</td>\n",
       "      <td>0.0</td>\n",
       "      <td>0.0</td>\n",
       "      <td>8267.0</td>\n",
       "      <td>1.0</td>\n",
       "      <td>5.0</td>\n",
       "    </tr>\n",
       "  </tbody>\n",
       "</table>\n",
       "</div>"
      ],
      "text/plain": [
       "                        customer_id                customer_unique_id  \\\n",
       "0  06b8999e2fba1a1fbc88172c00ba8bc7  861eff4711a542e4b93843c6dd7febb0   \n",
       "1  18955e83d337fd6b2def6b18a428ac77  290c77bc529b7ac935b93aa66c333dc3   \n",
       "2  4e7b3e00288586ebd08712fdd0374a03  060e732b5b29e8181a18229c7b0b2b5e   \n",
       "\n",
       "   customer_zip_code_prefix          customer_city customer_state  \\\n",
       "0                     14409                 franca             SP   \n",
       "1                      9790  sao bernardo do campo             SP   \n",
       "2                      1151              sao paulo             SP   \n",
       "\n",
       "                           order_id order_purchase_timestamp  \\\n",
       "0  00e7ee1b050b8499577073aeb2a297a1      2017-05-16 15:05:35   \n",
       "1  29150127e6685892b6eab3eec79f59c7      2018-01-12 20:48:24   \n",
       "2  b2059ed67ce144a36e2aa97d2c9e9ad2      2018-05-19 16:07:45   \n",
       "\n",
       "  order_delivered_customer_date   price  freight_proportion_price  \\\n",
       "0           2017-05-25 10:35:35  124.99                  0.175054   \n",
       "1           2018-01-29 12:41:19  289.00                  0.160830   \n",
       "2           2018-06-14 17:58:51  139.94                  0.127126   \n",
       "\n",
       "   payment_installments  payment_value  boleto  credit_card  debit_card  \\\n",
       "0                   2.0         146.87     0.0          1.0         0.0   \n",
       "1                   8.0         335.48     0.0          1.0         0.0   \n",
       "2                   7.0         157.73     0.0          1.0         0.0   \n",
       "\n",
       "   not_defined  voucher   weight  quantity  review_score  \n",
       "0          0.0      0.0   8683.0       1.0           4.0  \n",
       "1          0.0      0.0  10150.0       1.0           5.0  \n",
       "2          0.0      0.0   8267.0       1.0           5.0  "
      ]
     },
     "execution_count": 8,
     "metadata": {},
     "output_type": "execute_result"
    }
   ],
   "source": [
    "df.head(3)"
   ]
  },
  {
   "cell_type": "markdown",
   "metadata": {},
   "source": [
    "# Nettoyage"
   ]
  },
  {
   "cell_type": "code",
   "execution_count": 9,
   "metadata": {},
   "outputs": [
    {
     "data": {
      "text/plain": [
       "<AxesSubplot:>"
      ]
     },
     "execution_count": 9,
     "metadata": {},
     "output_type": "execute_result"
    },
    {
     "data": {
      "image/png": "[encoded data removed]",
      "text/plain": [
       "<Figure size 432x288 with 1 Axes>"
      ]
     },
     "metadata": {
      "needs_background": "light"
     },
     "output_type": "display_data"
    }
   ],
   "source": [
    "df.boxplot(\"payment_value\")"
   ]
  },
  {
   "cell_type": "code",
   "execution_count": 10,
   "metadata": {},
   "outputs": [
    {
     "name": "stdout",
     "output_type": "stream",
     "text": [
      "Element 0 bellow Q1 - 1.5 * IQ (-111.25)\n",
      "Element 7504 above Q3 + 1.5 * IQ (345.68)\n"
     ]
    }
   ],
   "source": [
    "distance_IQ(df[\"payment_value\"])"
   ]
  },
  {
   "cell_type": "code",
   "execution_count": 11,
   "metadata": {},
   "outputs": [],
   "source": [
    "df = df[df[\"payment_value\"] < 345]"
   ]
  },
  {
   "cell_type": "code",
   "execution_count": 12,
   "metadata": {},
   "outputs": [
    {
     "data": {
      "text/plain": [
       "<AxesSubplot:>"
      ]
     },
     "execution_count": 12,
     "metadata": {},
     "output_type": "execute_result"
    },
    {
     "data": {
      "image/png": "[encoded data removed]",
      "text/plain": [
       "<Figure size 432x288 with 1 Axes>"
      ]
     },
     "metadata": {
      "needs_background": "light"
     },
     "output_type": "display_data"
    }
   ],
   "source": [
    "#Après nettoyage\n",
    "df.boxplot(\"payment_value\")"
   ]
  },
  {
   "cell_type": "markdown",
   "metadata": {},
   "source": [
    "## Jours d'attentes"
   ]
  },
  {
   "cell_type": "code",
   "execution_count": 13,
   "metadata": {},
   "outputs": [
    {
     "data": {
      "text/html": [
       "<div>\n",
       "<style scoped>\n",
       "    .dataframe tbody tr th:only-of-type {\n",
       "        vertical-align: middle;\n",
       "    }\n",
       "\n",
       "    .dataframe tbody tr th {\n",
       "        vertical-align: top;\n",
       "    }\n",
       "\n",
       "    .dataframe thead th {\n",
       "        text-align: right;\n",
       "    }\n",
       "</style>\n",
       "<table border=\"1\" class=\"dataframe\">\n",
       "  <thead>\n",
       "    <tr style=\"text-align: right;\">\n",
       "      <th></th>\n",
       "      <th>customer_id</th>\n",
       "      <th>customer_unique_id</th>\n",
       "      <th>customer_zip_code_prefix</th>\n",
       "      <th>customer_city</th>\n",
       "      <th>customer_state</th>\n",
       "      <th>order_id</th>\n",
       "      <th>order_purchase_timestamp</th>\n",
       "      <th>order_delivered_customer_date</th>\n",
       "      <th>price</th>\n",
       "      <th>freight_proportion_price</th>\n",
       "      <th>payment_installments</th>\n",
       "      <th>payment_value</th>\n",
       "      <th>boleto</th>\n",
       "      <th>credit_card</th>\n",
       "      <th>debit_card</th>\n",
       "      <th>not_defined</th>\n",
       "      <th>voucher</th>\n",
       "      <th>weight</th>\n",
       "      <th>quantity</th>\n",
       "      <th>review_score</th>\n",
       "      <th>delay</th>\n",
       "    </tr>\n",
       "  </thead>\n",
       "  <tbody>\n",
       "    <tr>\n",
       "      <th>0</th>\n",
       "      <td>06b8999e2fba1a1fbc88172c00ba8bc7</td>\n",
       "      <td>861eff4711a542e4b93843c6dd7febb0</td>\n",
       "      <td>14409</td>\n",
       "      <td>franca</td>\n",
       "      <td>SP</td>\n",
       "      <td>00e7ee1b050b8499577073aeb2a297a1</td>\n",
       "      <td>2017-05-16 15:05:35</td>\n",
       "      <td>2017-05-25 10:35:35</td>\n",
       "      <td>124.99</td>\n",
       "      <td>0.175054</td>\n",
       "      <td>2.0</td>\n",
       "      <td>146.87</td>\n",
       "      <td>0.0</td>\n",
       "      <td>1.0</td>\n",
       "      <td>0.0</td>\n",
       "      <td>0.0</td>\n",
       "      <td>0.0</td>\n",
       "      <td>8683.0</td>\n",
       "      <td>1.0</td>\n",
       "      <td>4.0</td>\n",
       "      <td>9</td>\n",
       "    </tr>\n",
       "    <tr>\n",
       "      <th>1</th>\n",
       "      <td>18955e83d337fd6b2def6b18a428ac77</td>\n",
       "      <td>290c77bc529b7ac935b93aa66c333dc3</td>\n",
       "      <td>9790</td>\n",
       "      <td>sao bernardo do campo</td>\n",
       "      <td>SP</td>\n",
       "      <td>29150127e6685892b6eab3eec79f59c7</td>\n",
       "      <td>2018-01-12 20:48:24</td>\n",
       "      <td>2018-01-29 12:41:19</td>\n",
       "      <td>289.00</td>\n",
       "      <td>0.160830</td>\n",
       "      <td>8.0</td>\n",
       "      <td>335.48</td>\n",
       "      <td>0.0</td>\n",
       "      <td>1.0</td>\n",
       "      <td>0.0</td>\n",
       "      <td>0.0</td>\n",
       "      <td>0.0</td>\n",
       "      <td>10150.0</td>\n",
       "      <td>1.0</td>\n",
       "      <td>5.0</td>\n",
       "      <td>17</td>\n",
       "    </tr>\n",
       "    <tr>\n",
       "      <th>2</th>\n",
       "      <td>4e7b3e00288586ebd08712fdd0374a03</td>\n",
       "      <td>060e732b5b29e8181a18229c7b0b2b5e</td>\n",
       "      <td>1151</td>\n",
       "      <td>sao paulo</td>\n",
       "      <td>SP</td>\n",
       "      <td>b2059ed67ce144a36e2aa97d2c9e9ad2</td>\n",
       "      <td>2018-05-19 16:07:45</td>\n",
       "      <td>2018-06-14 17:58:51</td>\n",
       "      <td>139.94</td>\n",
       "      <td>0.127126</td>\n",
       "      <td>7.0</td>\n",
       "      <td>157.73</td>\n",
       "      <td>0.0</td>\n",
       "      <td>1.0</td>\n",
       "      <td>0.0</td>\n",
       "      <td>0.0</td>\n",
       "      <td>0.0</td>\n",
       "      <td>8267.0</td>\n",
       "      <td>1.0</td>\n",
       "      <td>5.0</td>\n",
       "      <td>26</td>\n",
       "    </tr>\n",
       "    <tr>\n",
       "      <th>3</th>\n",
       "      <td>b2b6027bc5c5109e529d4dc6358b12c3</td>\n",
       "      <td>259dac757896d24d7702b9acbbff3f3c</td>\n",
       "      <td>8775</td>\n",
       "      <td>mogi das cruzes</td>\n",
       "      <td>SP</td>\n",
       "      <td>951670f92359f4fe4a63112aa7306eba</td>\n",
       "      <td>2018-03-13 16:06:38</td>\n",
       "      <td>2018-03-28 16:04:25</td>\n",
       "      <td>149.94</td>\n",
       "      <td>0.155796</td>\n",
       "      <td>1.0</td>\n",
       "      <td>173.30</td>\n",
       "      <td>0.0</td>\n",
       "      <td>1.0</td>\n",
       "      <td>0.0</td>\n",
       "      <td>0.0</td>\n",
       "      <td>0.0</td>\n",
       "      <td>12160.0</td>\n",
       "      <td>1.0</td>\n",
       "      <td>5.0</td>\n",
       "      <td>15</td>\n",
       "    </tr>\n",
       "    <tr>\n",
       "      <th>4</th>\n",
       "      <td>4f2d8ab171c80ec8364f7c12e35b23ad</td>\n",
       "      <td>345ecd01c38d18a9036ed96c73b8d066</td>\n",
       "      <td>13056</td>\n",
       "      <td>campinas</td>\n",
       "      <td>SP</td>\n",
       "      <td>6b7d50bd145f6fc7f33cebabd7e49d0f</td>\n",
       "      <td>2018-07-29 09:51:30</td>\n",
       "      <td>2018-08-09 20:55:48</td>\n",
       "      <td>230.00</td>\n",
       "      <td>0.096739</td>\n",
       "      <td>8.0</td>\n",
       "      <td>252.25</td>\n",
       "      <td>0.0</td>\n",
       "      <td>1.0</td>\n",
       "      <td>0.0</td>\n",
       "      <td>0.0</td>\n",
       "      <td>0.0</td>\n",
       "      <td>5200.0</td>\n",
       "      <td>1.0</td>\n",
       "      <td>5.0</td>\n",
       "      <td>11</td>\n",
       "    </tr>\n",
       "  </tbody>\n",
       "</table>\n",
       "</div>"
      ],
      "text/plain": [
       "                        customer_id                customer_unique_id  \\\n",
       "0  06b8999e2fba1a1fbc88172c00ba8bc7  861eff4711a542e4b93843c6dd7febb0   \n",
       "1  18955e83d337fd6b2def6b18a428ac77  290c77bc529b7ac935b93aa66c333dc3   \n",
       "2  4e7b3e00288586ebd08712fdd0374a03  060e732b5b29e8181a18229c7b0b2b5e   \n",
       "3  b2b6027bc5c5109e529d4dc6358b12c3  259dac757896d24d7702b9acbbff3f3c   \n",
       "4  4f2d8ab171c80ec8364f7c12e35b23ad  345ecd01c38d18a9036ed96c73b8d066   \n",
       "\n",
       "   customer_zip_code_prefix          customer_city customer_state  \\\n",
       "0                     14409                 franca             SP   \n",
       "1                      9790  sao bernardo do campo             SP   \n",
       "2                      1151              sao paulo             SP   \n",
       "3                      8775        mogi das cruzes             SP   \n",
       "4                     13056               campinas             SP   \n",
       "\n",
       "                           order_id order_purchase_timestamp  \\\n",
       "0  00e7ee1b050b8499577073aeb2a297a1      2017-05-16 15:05:35   \n",
       "1  29150127e6685892b6eab3eec79f59c7      2018-01-12 20:48:24   \n",
       "2  b2059ed67ce144a36e2aa97d2c9e9ad2      2018-05-19 16:07:45   \n",
       "3  951670f92359f4fe4a63112aa7306eba      2018-03-13 16:06:38   \n",
       "4  6b7d50bd145f6fc7f33cebabd7e49d0f      2018-07-29 09:51:30   \n",
       "\n",
       "  order_delivered_customer_date   price  freight_proportion_price  \\\n",
       "0           2017-05-25 10:35:35  124.99                  0.175054   \n",
       "1           2018-01-29 12:41:19  289.00                  0.160830   \n",
       "2           2018-06-14 17:58:51  139.94                  0.127126   \n",
       "3           2018-03-28 16:04:25  149.94                  0.155796   \n",
       "4           2018-08-09 20:55:48  230.00                  0.096739   \n",
       "\n",
       "   payment_installments  payment_value  boleto  credit_card  debit_card  \\\n",
       "0                   2.0         146.87     0.0          1.0         0.0   \n",
       "1                   8.0         335.48     0.0          1.0         0.0   \n",
       "2                   7.0         157.73     0.0          1.0         0.0   \n",
       "3                   1.0         173.30     0.0          1.0         0.0   \n",
       "4                   8.0         252.25     0.0          1.0         0.0   \n",
       "\n",
       "   not_defined  voucher   weight  quantity  review_score  delay  \n",
       "0          0.0      0.0   8683.0       1.0           4.0      9  \n",
       "1          0.0      0.0  10150.0       1.0           5.0     17  \n",
       "2          0.0      0.0   8267.0       1.0           5.0     26  \n",
       "3          0.0      0.0  12160.0       1.0           5.0     15  \n",
       "4          0.0      0.0   5200.0       1.0           5.0     11  "
      ]
     },
     "execution_count": 13,
     "metadata": {},
     "output_type": "execute_result"
    }
   ],
   "source": [
    "#Création de la variable jour d'attente\n",
    "delay = df['order_delivered_customer_date'] - df['order_purchase_timestamp']\n",
    "delay = delay.round(\"D\").dt.days\n",
    "df = pd.concat([df, delay], axis = 1)\n",
    "df = df.rename(columns={0: \"delay\"})\n",
    "df.head()"
   ]
  },
  {
   "cell_type": "markdown",
   "metadata": {},
   "source": [
    "## Nombre de jours de différence entre le dernier achats et le reste"
   ]
  },
  {
   "cell_type": "code",
   "execution_count": 14,
   "metadata": {},
   "outputs": [
    {
     "data": {
      "text/html": [
       "<div>\n",
       "<style scoped>\n",
       "    .dataframe tbody tr th:only-of-type {\n",
       "        vertical-align: middle;\n",
       "    }\n",
       "\n",
       "    .dataframe tbody tr th {\n",
       "        vertical-align: top;\n",
       "    }\n",
       "\n",
       "    .dataframe thead th {\n",
       "        text-align: right;\n",
       "    }\n",
       "</style>\n",
       "<table border=\"1\" class=\"dataframe\">\n",
       "  <thead>\n",
       "    <tr style=\"text-align: right;\">\n",
       "      <th></th>\n",
       "      <th>customer_id</th>\n",
       "      <th>customer_unique_id</th>\n",
       "      <th>customer_zip_code_prefix</th>\n",
       "      <th>customer_city</th>\n",
       "      <th>customer_state</th>\n",
       "      <th>order_id</th>\n",
       "      <th>order_purchase_timestamp</th>\n",
       "      <th>order_delivered_customer_date</th>\n",
       "      <th>price</th>\n",
       "      <th>freight_proportion_price</th>\n",
       "      <th>payment_installments</th>\n",
       "      <th>payment_value</th>\n",
       "      <th>boleto</th>\n",
       "      <th>credit_card</th>\n",
       "      <th>debit_card</th>\n",
       "      <th>not_defined</th>\n",
       "      <th>voucher</th>\n",
       "      <th>weight</th>\n",
       "      <th>quantity</th>\n",
       "      <th>review_score</th>\n",
       "      <th>delay</th>\n",
       "      <th>days_since_last_command</th>\n",
       "    </tr>\n",
       "  </thead>\n",
       "  <tbody>\n",
       "    <tr>\n",
       "      <th>0</th>\n",
       "      <td>06b8999e2fba1a1fbc88172c00ba8bc7</td>\n",
       "      <td>861eff4711a542e4b93843c6dd7febb0</td>\n",
       "      <td>14409</td>\n",
       "      <td>franca</td>\n",
       "      <td>SP</td>\n",
       "      <td>00e7ee1b050b8499577073aeb2a297a1</td>\n",
       "      <td>2017-05-16 15:05:35</td>\n",
       "      <td>2017-05-25 10:35:35</td>\n",
       "      <td>124.99</td>\n",
       "      <td>0.175054</td>\n",
       "      <td>2.0</td>\n",
       "      <td>146.87</td>\n",
       "      <td>0.0</td>\n",
       "      <td>1.0</td>\n",
       "      <td>0.0</td>\n",
       "      <td>0.0</td>\n",
       "      <td>0.0</td>\n",
       "      <td>8683.0</td>\n",
       "      <td>1.0</td>\n",
       "      <td>4.0</td>\n",
       "      <td>9</td>\n",
       "      <td>470</td>\n",
       "    </tr>\n",
       "    <tr>\n",
       "      <th>1</th>\n",
       "      <td>18955e83d337fd6b2def6b18a428ac77</td>\n",
       "      <td>290c77bc529b7ac935b93aa66c333dc3</td>\n",
       "      <td>9790</td>\n",
       "      <td>sao bernardo do campo</td>\n",
       "      <td>SP</td>\n",
       "      <td>29150127e6685892b6eab3eec79f59c7</td>\n",
       "      <td>2018-01-12 20:48:24</td>\n",
       "      <td>2018-01-29 12:41:19</td>\n",
       "      <td>289.00</td>\n",
       "      <td>0.160830</td>\n",
       "      <td>8.0</td>\n",
       "      <td>335.48</td>\n",
       "      <td>0.0</td>\n",
       "      <td>1.0</td>\n",
       "      <td>0.0</td>\n",
       "      <td>0.0</td>\n",
       "      <td>0.0</td>\n",
       "      <td>10150.0</td>\n",
       "      <td>1.0</td>\n",
       "      <td>5.0</td>\n",
       "      <td>17</td>\n",
       "      <td>229</td>\n",
       "    </tr>\n",
       "    <tr>\n",
       "      <th>2</th>\n",
       "      <td>4e7b3e00288586ebd08712fdd0374a03</td>\n",
       "      <td>060e732b5b29e8181a18229c7b0b2b5e</td>\n",
       "      <td>1151</td>\n",
       "      <td>sao paulo</td>\n",
       "      <td>SP</td>\n",
       "      <td>b2059ed67ce144a36e2aa97d2c9e9ad2</td>\n",
       "      <td>2018-05-19 16:07:45</td>\n",
       "      <td>2018-06-14 17:58:51</td>\n",
       "      <td>139.94</td>\n",
       "      <td>0.127126</td>\n",
       "      <td>7.0</td>\n",
       "      <td>157.73</td>\n",
       "      <td>0.0</td>\n",
       "      <td>1.0</td>\n",
       "      <td>0.0</td>\n",
       "      <td>0.0</td>\n",
       "      <td>0.0</td>\n",
       "      <td>8267.0</td>\n",
       "      <td>1.0</td>\n",
       "      <td>5.0</td>\n",
       "      <td>26</td>\n",
       "      <td>102</td>\n",
       "    </tr>\n",
       "    <tr>\n",
       "      <th>3</th>\n",
       "      <td>b2b6027bc5c5109e529d4dc6358b12c3</td>\n",
       "      <td>259dac757896d24d7702b9acbbff3f3c</td>\n",
       "      <td>8775</td>\n",
       "      <td>mogi das cruzes</td>\n",
       "      <td>SP</td>\n",
       "      <td>951670f92359f4fe4a63112aa7306eba</td>\n",
       "      <td>2018-03-13 16:06:38</td>\n",
       "      <td>2018-03-28 16:04:25</td>\n",
       "      <td>149.94</td>\n",
       "      <td>0.155796</td>\n",
       "      <td>1.0</td>\n",
       "      <td>173.30</td>\n",
       "      <td>0.0</td>\n",
       "      <td>1.0</td>\n",
       "      <td>0.0</td>\n",
       "      <td>0.0</td>\n",
       "      <td>0.0</td>\n",
       "      <td>12160.0</td>\n",
       "      <td>1.0</td>\n",
       "      <td>5.0</td>\n",
       "      <td>15</td>\n",
       "      <td>169</td>\n",
       "    </tr>\n",
       "    <tr>\n",
       "      <th>4</th>\n",
       "      <td>4f2d8ab171c80ec8364f7c12e35b23ad</td>\n",
       "      <td>345ecd01c38d18a9036ed96c73b8d066</td>\n",
       "      <td>13056</td>\n",
       "      <td>campinas</td>\n",
       "      <td>SP</td>\n",
       "      <td>6b7d50bd145f6fc7f33cebabd7e49d0f</td>\n",
       "      <td>2018-07-29 09:51:30</td>\n",
       "      <td>2018-08-09 20:55:48</td>\n",
       "      <td>230.00</td>\n",
       "      <td>0.096739</td>\n",
       "      <td>8.0</td>\n",
       "      <td>252.25</td>\n",
       "      <td>0.0</td>\n",
       "      <td>1.0</td>\n",
       "      <td>0.0</td>\n",
       "      <td>0.0</td>\n",
       "      <td>0.0</td>\n",
       "      <td>5200.0</td>\n",
       "      <td>1.0</td>\n",
       "      <td>5.0</td>\n",
       "      <td>11</td>\n",
       "      <td>32</td>\n",
       "    </tr>\n",
       "  </tbody>\n",
       "</table>\n",
       "</div>"
      ],
      "text/plain": [
       "                        customer_id                customer_unique_id  \\\n",
       "0  06b8999e2fba1a1fbc88172c00ba8bc7  861eff4711a542e4b93843c6dd7febb0   \n",
       "1  18955e83d337fd6b2def6b18a428ac77  290c77bc529b7ac935b93aa66c333dc3   \n",
       "2  4e7b3e00288586ebd08712fdd0374a03  060e732b5b29e8181a18229c7b0b2b5e   \n",
       "3  b2b6027bc5c5109e529d4dc6358b12c3  259dac757896d24d7702b9acbbff3f3c   \n",
       "4  4f2d8ab171c80ec8364f7c12e35b23ad  345ecd01c38d18a9036ed96c73b8d066   \n",
       "\n",
       "   customer_zip_code_prefix          customer_city customer_state  \\\n",
       "0                     14409                 franca             SP   \n",
       "1                      9790  sao bernardo do campo             SP   \n",
       "2                      1151              sao paulo             SP   \n",
       "3                      8775        mogi das cruzes             SP   \n",
       "4                     13056               campinas             SP   \n",
       "\n",
       "                           order_id order_purchase_timestamp  \\\n",
       "0  00e7ee1b050b8499577073aeb2a297a1      2017-05-16 15:05:35   \n",
       "1  29150127e6685892b6eab3eec79f59c7      2018-01-12 20:48:24   \n",
       "2  b2059ed67ce144a36e2aa97d2c9e9ad2      2018-05-19 16:07:45   \n",
       "3  951670f92359f4fe4a63112aa7306eba      2018-03-13 16:06:38   \n",
       "4  6b7d50bd145f6fc7f33cebabd7e49d0f      2018-07-29 09:51:30   \n",
       "\n",
       "  order_delivered_customer_date   price  freight_proportion_price  \\\n",
       "0           2017-05-25 10:35:35  124.99                  0.175054   \n",
       "1           2018-01-29 12:41:19  289.00                  0.160830   \n",
       "2           2018-06-14 17:58:51  139.94                  0.127126   \n",
       "3           2018-03-28 16:04:25  149.94                  0.155796   \n",
       "4           2018-08-09 20:55:48  230.00                  0.096739   \n",
       "\n",
       "   payment_installments  payment_value  boleto  credit_card  debit_card  \\\n",
       "0                   2.0         146.87     0.0          1.0         0.0   \n",
       "1                   8.0         335.48     0.0          1.0         0.0   \n",
       "2                   7.0         157.73     0.0          1.0         0.0   \n",
       "3                   1.0         173.30     0.0          1.0         0.0   \n",
       "4                   8.0         252.25     0.0          1.0         0.0   \n",
       "\n",
       "   not_defined  voucher   weight  quantity  review_score  delay  \\\n",
       "0          0.0      0.0   8683.0       1.0           4.0      9   \n",
       "1          0.0      0.0  10150.0       1.0           5.0     17   \n",
       "2          0.0      0.0   8267.0       1.0           5.0     26   \n",
       "3          0.0      0.0  12160.0       1.0           5.0     15   \n",
       "4          0.0      0.0   5200.0       1.0           5.0     11   \n",
       "\n",
       "   days_since_last_command  \n",
       "0                      470  \n",
       "1                      229  \n",
       "2                      102  \n",
       "3                      169  \n",
       "4                       32  "
      ]
     },
     "execution_count": 14,
     "metadata": {},
     "output_type": "execute_result"
    }
   ],
   "source": [
    "#Nombre de jour entre les achats et aujourd'hui\n",
    "days_raw = compare_time(df['order_purchase_timestamp']).dt.days\n",
    "#Nombre de jour entre le dernier achat et le reste\n",
    "days_raw = pd.DataFrame(days_raw).rename(columns={\"order_purchase_timestamp\": \"days_since_last_command\"})\n",
    "days = days_raw - days_raw.min()\n",
    "df = pd.concat([df, days], axis = 1)\n",
    "df.head()"
   ]
  },
  {
   "cell_type": "markdown",
   "metadata": {},
   "source": [
    "## Date la plus récente et ancienne"
   ]
  },
  {
   "cell_type": "code",
   "execution_count": 15,
   "metadata": {},
   "outputs": [
    {
     "name": "stdout",
     "output_type": "stream",
     "text": [
      "Temps entre l'achat le plus ancien et récent: 696 jours\n",
      "2016-10-03 09:44:50 - 2018-08-29 15:00:37\n"
     ]
    }
   ],
   "source": [
    "print(\"Temps entre l'achat le plus ancien et récent: {0} jours\".format(df[\"days_since_last_command\"].max()))\n",
    "print(\"{0} - {1}\".format(df[\"order_purchase_timestamp\"].min(), df[\"order_purchase_timestamp\"].max()))"
   ]
  },
  {
   "cell_type": "markdown",
   "metadata": {},
   "source": [
    "# Analyse univariée"
   ]
  },
  {
   "cell_type": "markdown",
   "metadata": {},
   "source": [
    "## Derniers achats"
   ]
  },
  {
   "cell_type": "code",
   "execution_count": 16,
   "metadata": {},
   "outputs": [
    {
     "data": {
      "text/plain": [
       "<AxesSubplot:xlabel='days_since_last_command', ylabel='Count'>"
      ]
     },
     "execution_count": 16,
     "metadata": {},
     "output_type": "execute_result"
    },
    {
     "data": {
      "image/png": "[encoded data removed]",
      "text/plain": [
       "<Figure size 432x288 with 1 Axes>"
      ]
     },
     "metadata": {
      "needs_background": "light"
     },
     "output_type": "display_data"
    }
   ],
   "source": [
    "tmp = df[[\"customer_unique_id\", 'days_since_last_command']].groupby(by = \"customer_unique_id\").min()\n",
    "sns.histplot(data=tmp, x=\"days_since_last_command\", kde=True)"
   ]
  },
  {
   "cell_type": "code",
   "execution_count": 17,
   "metadata": {},
   "outputs": [
    {
     "data": {
      "text/plain": [
       "<AxesSubplot:>"
      ]
     },
     "execution_count": 17,
     "metadata": {},
     "output_type": "execute_result"
    },
    {
     "data": {
      "image/png": "[encoded data removed]",
      "text/plain": [
       "<Figure size 432x288 with 1 Axes>"
      ]
     },
     "metadata": {
      "needs_background": "light"
     },
     "output_type": "display_data"
    }
   ],
   "source": [
    "tmp.boxplot()"
   ]
  },
  {
   "cell_type": "code",
   "execution_count": 18,
   "metadata": {},
   "outputs": [
    {
     "data": {
      "text/html": [
       "<div>\n",
       "<style scoped>\n",
       "    .dataframe tbody tr th:only-of-type {\n",
       "        vertical-align: middle;\n",
       "    }\n",
       "\n",
       "    .dataframe tbody tr th {\n",
       "        vertical-align: top;\n",
       "    }\n",
       "\n",
       "    .dataframe thead th {\n",
       "        text-align: right;\n",
       "    }\n",
       "</style>\n",
       "<table border=\"1\" class=\"dataframe\">\n",
       "  <thead>\n",
       "    <tr style=\"text-align: right;\">\n",
       "      <th></th>\n",
       "      <th>days_since_last_command</th>\n",
       "    </tr>\n",
       "  </thead>\n",
       "  <tbody>\n",
       "    <tr>\n",
       "      <th>count</th>\n",
       "      <td>86155.000000</td>\n",
       "    </tr>\n",
       "    <tr>\n",
       "      <th>mean</th>\n",
       "      <td>237.724752</td>\n",
       "    </tr>\n",
       "    <tr>\n",
       "      <th>std</th>\n",
       "      <td>152.348063</td>\n",
       "    </tr>\n",
       "    <tr>\n",
       "      <th>min</th>\n",
       "      <td>0.000000</td>\n",
       "    </tr>\n",
       "    <tr>\n",
       "      <th>25%</th>\n",
       "      <td>114.000000</td>\n",
       "    </tr>\n",
       "    <tr>\n",
       "      <th>50%</th>\n",
       "      <td>219.000000</td>\n",
       "    </tr>\n",
       "    <tr>\n",
       "      <th>75%</th>\n",
       "      <td>346.000000</td>\n",
       "    </tr>\n",
       "    <tr>\n",
       "      <th>max</th>\n",
       "      <td>695.000000</td>\n",
       "    </tr>\n",
       "  </tbody>\n",
       "</table>\n",
       "</div>"
      ],
      "text/plain": [
       "       days_since_last_command\n",
       "count             86155.000000\n",
       "mean                237.724752\n",
       "std                 152.348063\n",
       "min                   0.000000\n",
       "25%                 114.000000\n",
       "50%                 219.000000\n",
       "75%                 346.000000\n",
       "max                 695.000000"
      ]
     },
     "execution_count": 18,
     "metadata": {},
     "output_type": "execute_result"
    }
   ],
   "source": [
    "tmp.describe()"
   ]
  },
  {
   "cell_type": "markdown",
   "metadata": {},
   "source": [
    "Les commandes peuvent être divisées en 4 parties  de 110 jours. "
   ]
  },
  {
   "cell_type": "markdown",
   "metadata": {},
   "source": [
    "## Délais d'envoie"
   ]
  },
  {
   "cell_type": "code",
   "execution_count": 19,
   "metadata": {},
   "outputs": [
    {
     "data": {
      "text/plain": [
       "<AxesSubplot:xlabel='delay', ylabel='Count'>"
      ]
     },
     "execution_count": 19,
     "metadata": {},
     "output_type": "execute_result"
    },
    {
     "data": {
      "image/png": "[encoded data removed]",
      "text/plain": [
       "<Figure size 432x288 with 1 Axes>"
      ]
     },
     "metadata": {
      "needs_background": "light"
     },
     "output_type": "display_data"
    }
   ],
   "source": [
    "sns.histplot(data=df, x=\"delay\", kde=True)"
   ]
  },
  {
   "cell_type": "code",
   "execution_count": 20,
   "metadata": {},
   "outputs": [
    {
     "data": {
      "text/plain": [
       "count    88949.000000\n",
       "mean        12.370898\n",
       "std          9.378841\n",
       "min          1.000000\n",
       "25%          7.000000\n",
       "50%         10.000000\n",
       "75%         15.000000\n",
       "max        210.000000\n",
       "Name: delay, dtype: float64"
      ]
     },
     "execution_count": 20,
     "metadata": {},
     "output_type": "execute_result"
    }
   ],
   "source": [
    "df[\"delay\"].describe()"
   ]
  },
  {
   "cell_type": "markdown",
   "metadata": {},
   "source": [
    "3/4 des produits ont un délais de livraison inférieur à 2 semaines"
   ]
  },
  {
   "cell_type": "markdown",
   "metadata": {},
   "source": [
    "# Quantité d'objets par commande"
   ]
  },
  {
   "cell_type": "code",
   "execution_count": 21,
   "metadata": {},
   "outputs": [
    {
     "data": {
      "text/plain": [
       "<AxesSubplot:xlabel='quantity', ylabel='Count'>"
      ]
     },
     "execution_count": 21,
     "metadata": {},
     "output_type": "execute_result"
    },
    {
     "data": {
      "image/png": "[encoded data removed]",
      "text/plain": [
       "<Figure size 432x288 with 1 Axes>"
      ]
     },
     "metadata": {
      "needs_background": "light"
     },
     "output_type": "display_data"
    }
   ],
   "source": [
    "sns.histplot(data=df, x=\"quantity\", kde=True)"
   ]
  },
  {
   "cell_type": "code",
   "execution_count": 22,
   "metadata": {},
   "outputs": [
    {
     "data": {
      "text/plain": [
       "count    88949.000000\n",
       "mean         1.115977\n",
       "std          0.438378\n",
       "min          0.000000\n",
       "25%          1.000000\n",
       "50%          1.000000\n",
       "75%          1.000000\n",
       "max         21.000000\n",
       "Name: quantity, dtype: float64"
      ]
     },
     "execution_count": 22,
     "metadata": {},
     "output_type": "execute_result"
    }
   ],
   "source": [
    "df[\"quantity\"].describe()"
   ]
  },
  {
   "cell_type": "code",
   "execution_count": 23,
   "metadata": {},
   "outputs": [
    {
     "name": "stdout",
     "output_type": "stream",
     "text": [
      "8.92 % des commandes comportent plus de 1 produit\n"
     ]
    }
   ],
   "source": [
    "#Proportion de commandes avec plus de 1 produits\n",
    "tot = df[\"quantity\"].count()\n",
    "number = df[df[\"quantity\"] > 1.0].shape[0]\n",
    "print(\"{0:.2f} % des commandes comportent plus de 1 produit\".format(number/tot*100.0))"
   ]
  },
  {
   "cell_type": "markdown",
   "metadata": {},
   "source": [
    "# Prix des paniers"
   ]
  },
  {
   "cell_type": "code",
   "execution_count": 24,
   "metadata": {},
   "outputs": [
    {
     "data": {
      "text/plain": [
       "<AxesSubplot:xlabel='price', ylabel='Count'>"
      ]
     },
     "execution_count": 24,
     "metadata": {},
     "output_type": "execute_result"
    },
    {
     "data": {
      "image/png": "[encoded data removed]",
      "text/plain": [
       "<Figure size 432x288 with 1 Axes>"
      ]
     },
     "metadata": {
      "needs_background": "light"
     },
     "output_type": "display_data"
    }
   ],
   "source": [
    "sns.histplot(data=df, x=\"price\", kde=True)"
   ]
  },
  {
   "cell_type": "code",
   "execution_count": 25,
   "metadata": {},
   "outputs": [
    {
     "data": {
      "text/plain": [
       "count    88949.000000\n",
       "mean        95.076948\n",
       "std         68.260297\n",
       "min          0.850000\n",
       "25%         43.000000\n",
       "50%         79.000000\n",
       "75%        129.900000\n",
       "max       1360.020000\n",
       "Name: price, dtype: float64"
      ]
     },
     "execution_count": 25,
     "metadata": {},
     "output_type": "execute_result"
    }
   ],
   "source": [
    "df[\"price\"].describe()"
   ]
  },
  {
   "cell_type": "code",
   "execution_count": 26,
   "metadata": {},
   "outputs": [
    {
     "data": {
      "image/png": "[encoded data removed]",
      "text/plain": [
       "<Figure size 432x432 with 3 Axes>"
      ]
     },
     "metadata": {
      "needs_background": "light"
     },
     "output_type": "display_data"
    }
   ],
   "source": [
    "scatter_plot(df, \"price\", \"quantity\", \"\")"
   ]
  },
  {
   "cell_type": "markdown",
   "metadata": {},
   "source": [
    "## Moyen de paiements"
   ]
  },
  {
   "cell_type": "code",
   "execution_count": 27,
   "metadata": {},
   "outputs": [
    {
     "data": {
      "text/plain": [
       "boleto         17967.000000\n",
       "credit_card    66958.690489\n",
       "debit_card      1404.500000\n",
       "not_defined        0.000000\n",
       "voucher         2618.809511\n",
       "dtype: float64"
      ]
     },
     "execution_count": 27,
     "metadata": {},
     "output_type": "execute_result"
    }
   ],
   "source": [
    "df[[\"boleto\", \"credit_card\", \"debit_card\", \"not_defined\", \"voucher\"]].sum()"
   ]
  },
  {
   "cell_type": "markdown",
   "metadata": {},
   "source": [
    "La catégorie **not_defined** ne contient aucun élément"
   ]
  },
  {
   "cell_type": "code",
   "execution_count": 28,
   "metadata": {},
   "outputs": [],
   "source": [
    "df = df.drop(['not_defined'], axis=1)"
   ]
  },
  {
   "cell_type": "code",
   "execution_count": 29,
   "metadata": {},
   "outputs": [],
   "source": [
    "val = df[[\"boleto\", \"credit_card\", \"debit_card\", \"voucher\"]].sum().to_numpy()\n",
    "labels = df[[\"boleto\", \"credit_card\", \"debit_card\", \"voucher\"]].sum().index\n"
   ]
  },
  {
   "cell_type": "code",
   "execution_count": 30,
   "metadata": {},
   "outputs": [
    {
     "data": {
      "image/png": "[encoded data removed]",
      "text/plain": [
       "<Figure size 720x720 with 1 Axes>"
      ]
     },
     "metadata": {},
     "output_type": "display_data"
    }
   ],
   "source": [
    "f, ax = plt.subplots(figsize=(10, 10))\n",
    "plt.pie(val, labels=labels, autopct='%1.1f%%', shadow=True, startangle=140)\n",
    "plt.axis('equal')\n",
    "plt.legend(labels, loc=\"best\")\n",
    "plt.show()"
   ]
  },
  {
   "cell_type": "markdown",
   "metadata": {},
   "source": [
    "### fusion des colonnes voucher et debit card"
   ]
  },
  {
   "cell_type": "code",
   "execution_count": 31,
   "metadata": {},
   "outputs": [
    {
     "name": "stderr",
     "output_type": "stream",
     "text": [
      "C:\\Users\\jayse\\anaconda3\\lib\\site-packages\\seaborn\\distributions.py:1659: FutureWarning: The `bw` parameter is deprecated in favor of `bw_method` and `bw_adjust`. Using 0.5 for `bw_method`, but please see the docs for the new parameters and update your code.\n",
      "  warnings.warn(msg, FutureWarning)\n"
     ]
    },
    {
     "data": {
      "text/plain": [
       "<AxesSubplot:xlabel='voucher', ylabel='Density'>"
      ]
     },
     "execution_count": 31,
     "metadata": {},
     "output_type": "execute_result"
    },
    {
     "data": {
      "image/png": "[encoded data removed]",
      "text/plain": [
       "<Figure size 432x288 with 1 Axes>"
      ]
     },
     "metadata": {
      "needs_background": "light"
     },
     "output_type": "display_data"
    }
   ],
   "source": [
    "sns.kdeplot(df[\"voucher\"], bw=0.5)"
   ]
  },
  {
   "cell_type": "markdown",
   "metadata": {},
   "source": [
    "la valeur 0.5 coresspond à des paiements mixtes"
   ]
  },
  {
   "cell_type": "code",
   "execution_count": 32,
   "metadata": {},
   "outputs": [
    {
     "name": "stderr",
     "output_type": "stream",
     "text": [
      "C:\\Users\\jayse\\anaconda3\\lib\\site-packages\\seaborn\\distributions.py:1659: FutureWarning: The `bw` parameter is deprecated in favor of `bw_method` and `bw_adjust`. Using 0.5 for `bw_method`, but please see the docs for the new parameters and update your code.\n",
      "  warnings.warn(msg, FutureWarning)\n"
     ]
    },
    {
     "data": {
      "text/plain": [
       "<AxesSubplot:xlabel='debit_card', ylabel='Density'>"
      ]
     },
     "execution_count": 32,
     "metadata": {},
     "output_type": "execute_result"
    },
    {
     "data": {
      "image/png": "[encoded data removed]",
      "text/plain": [
       "<Figure size 432x288 with 1 Axes>"
      ]
     },
     "metadata": {
      "needs_background": "light"
     },
     "output_type": "display_data"
    }
   ],
   "source": [
    "sns.kdeplot(df[\"debit_card\"], bw=0.5)"
   ]
  },
  {
   "cell_type": "code",
   "execution_count": 33,
   "metadata": {},
   "outputs": [],
   "source": [
    "df = df.rename(columns={\"voucher\": \"voucher_debit_card\"})\n",
    "df.loc[df['debit_card'] > 0, \"voucher_debit_card\"] = 1.0\n",
    "df = df.drop([\"debit_card\"], axis = 1)"
   ]
  },
  {
   "cell_type": "code",
   "execution_count": 34,
   "metadata": {},
   "outputs": [
    {
     "data": {
      "image/png": "[encoded data removed]",
      "text/plain": [
       "<Figure size 720x720 with 1 Axes>"
      ]
     },
     "metadata": {},
     "output_type": "display_data"
    }
   ],
   "source": [
    "val = df[[\"boleto\", \"credit_card\", \"voucher_debit_card\"]].sum().to_numpy()\n",
    "labels = df[[\"boleto\", \"credit_card\", \"voucher_debit_card\"]].sum().index\n",
    "\n",
    "f, ax = plt.subplots(figsize=(10, 10))\n",
    "plt.pie(val, labels=labels, autopct='%1.1f%%', shadow=True, startangle=140)\n",
    "plt.axis('equal')\n",
    "plt.legend(labels, loc=\"best\")\n",
    "plt.show()"
   ]
  },
  {
   "cell_type": "markdown",
   "metadata": {},
   "source": [
    "# Poids (g) des commandes"
   ]
  },
  {
   "cell_type": "code",
   "execution_count": 35,
   "metadata": {},
   "outputs": [
    {
     "data": {
      "text/plain": [
       "<AxesSubplot:xlabel='weight', ylabel='Count'>"
      ]
     },
     "execution_count": 35,
     "metadata": {},
     "output_type": "execute_result"
    },
    {
     "data": {
      "image/png": "[encoded data removed]",
      "text/plain": [
       "<Figure size 432x288 with 1 Axes>"
      ]
     },
     "metadata": {
      "needs_background": "light"
     },
     "output_type": "display_data"
    }
   ],
   "source": [
    "sns.histplot(data=df, x=\"weight\", kde=True)"
   ]
  },
  {
   "cell_type": "code",
   "execution_count": 36,
   "metadata": {},
   "outputs": [
    {
     "data": {
      "text/plain": [
       "count    88949.000000\n",
       "mean      1915.584560\n",
       "std       3312.330855\n",
       "min          0.000000\n",
       "25%        300.000000\n",
       "50%        700.000000\n",
       "75%       1800.000000\n",
       "max      60000.000000\n",
       "Name: weight, dtype: float64"
      ]
     },
     "execution_count": 36,
     "metadata": {},
     "output_type": "execute_result"
    }
   ],
   "source": [
    "df[\"weight\"].describe()"
   ]
  },
  {
   "cell_type": "code",
   "execution_count": 37,
   "metadata": {},
   "outputs": [
    {
     "data": {
      "text/html": [
       "<div>\n",
       "<style scoped>\n",
       "    .dataframe tbody tr th:only-of-type {\n",
       "        vertical-align: middle;\n",
       "    }\n",
       "\n",
       "    .dataframe tbody tr th {\n",
       "        vertical-align: top;\n",
       "    }\n",
       "\n",
       "    .dataframe thead th {\n",
       "        text-align: right;\n",
       "    }\n",
       "</style>\n",
       "<table border=\"1\" class=\"dataframe\">\n",
       "  <thead>\n",
       "    <tr style=\"text-align: right;\">\n",
       "      <th></th>\n",
       "      <th>customer_id</th>\n",
       "      <th>customer_unique_id</th>\n",
       "      <th>customer_zip_code_prefix</th>\n",
       "      <th>customer_city</th>\n",
       "      <th>customer_state</th>\n",
       "      <th>order_id</th>\n",
       "      <th>order_purchase_timestamp</th>\n",
       "      <th>order_delivered_customer_date</th>\n",
       "      <th>price</th>\n",
       "      <th>freight_proportion_price</th>\n",
       "      <th>payment_installments</th>\n",
       "      <th>payment_value</th>\n",
       "      <th>boleto</th>\n",
       "      <th>credit_card</th>\n",
       "      <th>voucher_debit_card</th>\n",
       "      <th>weight</th>\n",
       "      <th>quantity</th>\n",
       "      <th>review_score</th>\n",
       "      <th>delay</th>\n",
       "      <th>days_since_last_command</th>\n",
       "    </tr>\n",
       "  </thead>\n",
       "  <tbody>\n",
       "    <tr>\n",
       "      <th>63325</th>\n",
       "      <td>8d00bb042dfdfc4c8121bcd01fbc78bc</td>\n",
       "      <td>d4fda150c67fa99a9927ca5fe66dc310</td>\n",
       "      <td>11900</td>\n",
       "      <td>registro</td>\n",
       "      <td>SP</td>\n",
       "      <td>6d34c087b843ae0fdb296f15d948e45f</td>\n",
       "      <td>2018-06-20 19:11:56</td>\n",
       "      <td>2018-06-29 17:21:38</td>\n",
       "      <td>471.8</td>\n",
       "      <td>0.086329</td>\n",
       "      <td>1.0</td>\n",
       "      <td>138.315</td>\n",
       "      <td>0.0</td>\n",
       "      <td>0.0</td>\n",
       "      <td>1.0</td>\n",
       "      <td>60000.0</td>\n",
       "      <td>2.0</td>\n",
       "      <td>5.0</td>\n",
       "      <td>9</td>\n",
       "      <td>70</td>\n",
       "    </tr>\n",
       "  </tbody>\n",
       "</table>\n",
       "</div>"
      ],
      "text/plain": [
       "                            customer_id                customer_unique_id  \\\n",
       "63325  8d00bb042dfdfc4c8121bcd01fbc78bc  d4fda150c67fa99a9927ca5fe66dc310   \n",
       "\n",
       "       customer_zip_code_prefix customer_city customer_state  \\\n",
       "63325                     11900      registro             SP   \n",
       "\n",
       "                               order_id order_purchase_timestamp  \\\n",
       "63325  6d34c087b843ae0fdb296f15d948e45f      2018-06-20 19:11:56   \n",
       "\n",
       "      order_delivered_customer_date  price  freight_proportion_price  \\\n",
       "63325           2018-06-29 17:21:38  471.8                  0.086329   \n",
       "\n",
       "       payment_installments  payment_value  boleto  credit_card  \\\n",
       "63325                   1.0        138.315     0.0          0.0   \n",
       "\n",
       "       voucher_debit_card   weight  quantity  review_score  delay  \\\n",
       "63325                 1.0  60000.0       2.0           5.0      9   \n",
       "\n",
       "       days_since_last_command  \n",
       "63325                       70  "
      ]
     },
     "execution_count": 37,
     "metadata": {},
     "output_type": "execute_result"
    }
   ],
   "source": [
    "df[df[\"weight\"] == 60000]"
   ]
  },
  {
   "cell_type": "markdown",
   "metadata": {},
   "source": [
    "# % des frais de port sur le prix du produit"
   ]
  },
  {
   "cell_type": "code",
   "execution_count": 38,
   "metadata": {},
   "outputs": [
    {
     "data": {
      "text/plain": [
       "<AxesSubplot:xlabel='freight_proportion_price', ylabel='Count'>"
      ]
     },
     "execution_count": 38,
     "metadata": {},
     "output_type": "execute_result"
    },
    {
     "data": {
      "image/png": "[encoded data removed]",
      "text/plain": [
       "<Figure size 432x288 with 1 Axes>"
      ]
     },
     "metadata": {
      "needs_background": "light"
     },
     "output_type": "display_data"
    }
   ],
   "source": [
    "sns.histplot(data=df, x=\"freight_proportion_price\", kde=True)"
   ]
  },
  {
   "cell_type": "code",
   "execution_count": 39,
   "metadata": {},
   "outputs": [
    {
     "data": {
      "text/plain": [
       "count    88949.000000\n",
       "mean         0.305899\n",
       "std          0.303705\n",
       "min          0.000000\n",
       "25%          0.134928\n",
       "50%          0.222318\n",
       "75%          0.372675\n",
       "max         21.447059\n",
       "Name: freight_proportion_price, dtype: float64"
      ]
     },
     "execution_count": 39,
     "metadata": {},
     "output_type": "execute_result"
    }
   ],
   "source": [
    "df[\"freight_proportion_price\"].describe()"
   ]
  },
  {
   "cell_type": "markdown",
   "metadata": {},
   "source": [
    "1/4 des produits ont des frais de prots qui sont supérieur à 30 % du prix de la commande. Certains produits ont la velur de leur frais de port supérieur au prix du produit."
   ]
  },
  {
   "cell_type": "markdown",
   "metadata": {},
   "source": [
    "# Echellonage des paiements "
   ]
  },
  {
   "cell_type": "code",
   "execution_count": 40,
   "metadata": {},
   "outputs": [
    {
     "data": {
      "text/plain": [
       "<AxesSubplot:xlabel='payment_installments', ylabel='Count'>"
      ]
     },
     "execution_count": 40,
     "metadata": {},
     "output_type": "execute_result"
    },
    {
     "data": {
      "image/png": "[encoded data removed]",
      "text/plain": [
       "<Figure size 432x288 with 1 Axes>"
      ]
     },
     "metadata": {
      "needs_background": "light"
     },
     "output_type": "display_data"
    }
   ],
   "source": [
    "sns.histplot(data=df, x=\"payment_installments\", kde=True)"
   ]
  },
  {
   "cell_type": "code",
   "execution_count": 41,
   "metadata": {},
   "outputs": [
    {
     "data": {
      "text/plain": [
       "count    88949.000000\n",
       "mean         2.688556\n",
       "std          2.467686\n",
       "min          0.000000\n",
       "25%          1.000000\n",
       "50%          1.000000\n",
       "75%          4.000000\n",
       "max         24.000000\n",
       "Name: payment_installments, dtype: float64"
      ]
     },
     "execution_count": 41,
     "metadata": {},
     "output_type": "execute_result"
    }
   ],
   "source": [
    "df[\"payment_installments\"].describe()"
   ]
  },
  {
   "cell_type": "code",
   "execution_count": 42,
   "metadata": {},
   "outputs": [],
   "source": [
    "#des achats ont un échellonage de 0, on les  met à 1.\n",
    "ind = df[\"payment_installments\"] == 0\n",
    "df.loc[ind, [\"payment_installments\"]] = 1"
   ]
  },
  {
   "cell_type": "markdown",
   "metadata": {},
   "source": [
    "# Clients réguliers"
   ]
  },
  {
   "cell_type": "code",
   "execution_count": 43,
   "metadata": {},
   "outputs": [
    {
     "name": "stdout",
     "output_type": "stream",
     "text": [
      "2520 clients ont commandé plus d'une fois.\n",
      "Cela représente 2.92% des clients\n"
     ]
    }
   ],
   "source": [
    "#regular customers (more than 1 order)\n",
    "id_counts  = df[\"customer_unique_id\"].value_counts()\n",
    "regular = len(id_counts[id_counts > 1])\n",
    "print(\"{0} clients ont commandé plus d'une fois.\".format(regular))\n",
    "tot = len(pd.unique(df[\"customer_unique_id\"]))\n",
    "print(\"Cela représente {0:.2f}% des clients\".format(regular/tot*100.0))"
   ]
  },
  {
   "cell_type": "markdown",
   "metadata": {},
   "source": [
    "### Data frame avec les clients réguliers."
   ]
  },
  {
   "cell_type": "code",
   "execution_count": 44,
   "metadata": {},
   "outputs": [],
   "source": [
    "lines = []\n",
    "for regular_customer in id_counts[id_counts > 1].index:\n",
    "    lines = np.concatenate((lines,np.where(df[\"customer_unique_id\"] == regular_customer)[0]))\n",
    "df_regular = df.iloc[lines]"
   ]
  },
  {
   "cell_type": "markdown",
   "metadata": {},
   "source": [
    "### Nombre d'achat sur le site"
   ]
  },
  {
   "cell_type": "code",
   "execution_count": 45,
   "metadata": {},
   "outputs": [
    {
     "name": "stdout",
     "output_type": "stream",
     "text": [
      "7.82 % des clients réguliers ont commandé plus de 2 fois.\n"
     ]
    },
    {
     "data": {
      "text/html": [
       "<div>\n",
       "<style scoped>\n",
       "    .dataframe tbody tr th:only-of-type {\n",
       "        vertical-align: middle;\n",
       "    }\n",
       "\n",
       "    .dataframe tbody tr th {\n",
       "        vertical-align: top;\n",
       "    }\n",
       "\n",
       "    .dataframe thead th {\n",
       "        text-align: right;\n",
       "    }\n",
       "</style>\n",
       "<table border=\"1\" class=\"dataframe\">\n",
       "  <thead>\n",
       "    <tr style=\"text-align: right;\">\n",
       "      <th></th>\n",
       "      <th>nb connection</th>\n",
       "    </tr>\n",
       "  </thead>\n",
       "  <tbody>\n",
       "    <tr>\n",
       "      <th>count</th>\n",
       "      <td>2520.000000</td>\n",
       "    </tr>\n",
       "    <tr>\n",
       "      <th>mean</th>\n",
       "      <td>2.108730</td>\n",
       "    </tr>\n",
       "    <tr>\n",
       "      <th>std</th>\n",
       "      <td>0.496997</td>\n",
       "    </tr>\n",
       "    <tr>\n",
       "      <th>min</th>\n",
       "      <td>2.000000</td>\n",
       "    </tr>\n",
       "    <tr>\n",
       "      <th>25%</th>\n",
       "      <td>2.000000</td>\n",
       "    </tr>\n",
       "    <tr>\n",
       "      <th>50%</th>\n",
       "      <td>2.000000</td>\n",
       "    </tr>\n",
       "    <tr>\n",
       "      <th>75%</th>\n",
       "      <td>2.000000</td>\n",
       "    </tr>\n",
       "    <tr>\n",
       "      <th>max</th>\n",
       "      <td>15.000000</td>\n",
       "    </tr>\n",
       "  </tbody>\n",
       "</table>\n",
       "</div>"
      ],
      "text/plain": [
       "       nb connection\n",
       "count    2520.000000\n",
       "mean        2.108730\n",
       "std         0.496997\n",
       "min         2.000000\n",
       "25%         2.000000\n",
       "50%         2.000000\n",
       "75%         2.000000\n",
       "max        15.000000"
      ]
     },
     "execution_count": 45,
     "metadata": {},
     "output_type": "execute_result"
    },
    {
     "data": {
      "image/png": "[encoded data removed]",
      "text/plain": [
       "<Figure size 432x288 with 1 Axes>"
      ]
     },
     "metadata": {
      "needs_background": "light"
     },
     "output_type": "display_data"
    }
   ],
   "source": [
    "tmp = df_regular.groupby(by=[\"customer_unique_id\"]).count()[\"customer_id\"].to_numpy()\n",
    "tmp = pd.DataFrame(tmp, columns = {\"nb connection\"})\n",
    "sns.histplot(data=tmp, x=\"nb connection\", kde=True)\n",
    "#% de clients qui ont fait plus de 2 achats\n",
    "print(\"{0:.2f} % des clients réguliers ont commandé plus de 2 fois.\".format(\n",
    "    len(np.where(tmp[\"nb connection\"] > 2)[0])/tmp.shape[0] *100.0))\n",
    "tmp.describe()"
   ]
  },
  {
   "cell_type": "markdown",
   "metadata": {},
   "source": [
    "### Data frame avec les clients non réguliers"
   ]
  },
  {
   "cell_type": "code",
   "execution_count": 46,
   "metadata": {},
   "outputs": [],
   "source": [
    "indice = np.arange(df.shape[0])\n",
    "#Find the set difference of two arrays. Return the unique values in ar1 that are not in ar2.\n",
    "indice = np.setdiff1d(indice, lines)\n",
    "df_no_regular = df.iloc[indice]"
   ]
  },
  {
   "cell_type": "markdown",
   "metadata": {},
   "source": [
    "## Dernière commande faite"
   ]
  },
  {
   "cell_type": "code",
   "execution_count": 47,
   "metadata": {},
   "outputs": [],
   "source": [
    "last_regular = df_regular.groupby(by=[\"customer_unique_id\"]).min()[\"days_since_last_command\"].to_numpy()\n",
    "last_regular = pd.DataFrame(last_regular, columns = {\"days_since_last_command\"})\n",
    "\n",
    "last_non_regular = df_no_regular.groupby(by=[\"customer_unique_id\"]).min()[\"days_since_last_command\"].to_numpy()\n",
    "last_non_regular = pd.DataFrame(last_non_regular, columns = {\"days_since_last_command\"})\n",
    "\n",
    "#sns.histplot(data=last_regular, x=\"days_since_last_command\", kde=True)"
   ]
  },
  {
   "cell_type": "markdown",
   "metadata": {},
   "source": [
    "3/4 des clients réguliers ont acheté quelque chose au cours de l'année."
   ]
  },
  {
   "cell_type": "code",
   "execution_count": 48,
   "metadata": {},
   "outputs": [
    {
     "data": {
      "image/png": "[encoded data removed]",
      "text/plain": [
       "<Figure size 432x288 with 1 Axes>"
      ]
     },
     "metadata": {
      "needs_background": "light"
     },
     "output_type": "display_data"
    }
   ],
   "source": [
    "# Compare both distribution\n",
    "fig = sns.kdeplot(last_regular['days_since_last_command'], shade=True, color=\"r\")\n",
    "fig = sns.kdeplot(last_non_regular['days_since_last_command'], shade=True, color=\"g\")\n",
    "plt.title(\"Day since last comand for regular and no regular customers\")\n",
    "plt.show()"
   ]
  },
  {
   "cell_type": "markdown",
   "metadata": {},
   "source": [
    "#### Mann-Whitney rank test"
   ]
  },
  {
   "cell_type": "markdown",
   "metadata": {},
   "source": [
    "La moyenne des jours écoulés depuis le dernier achat est-il ma même entre les clients réguliers et nouveaux clients ?\n",
    "\n",
    "Hypothèse:\n",
    "* H0: Les distributions sont égales\n",
    "* H1: Les distributions ne sont pas égales"
   ]
  },
  {
   "cell_type": "code",
   "execution_count": 49,
   "metadata": {},
   "outputs": [
    {
     "name": "stdout",
     "output_type": "stream",
     "text": [
      "Statistics=98875994.000, p=6.203242221040599e-08\n",
      "Different distribution (reject H0)\n"
     ]
    }
   ],
   "source": [
    "rootline_mannwhitneyu(last_regular['days_since_last_command'].to_numpy(), \n",
    "                      last_non_regular['days_since_last_command'].to_numpy())"
   ]
  },
  {
   "cell_type": "markdown",
   "metadata": {},
   "source": [
    "p < 0.05: **Rejet de H0**"
   ]
  },
  {
   "cell_type": "code",
   "execution_count": 50,
   "metadata": {},
   "outputs": [
    {
     "data": {
      "text/plain": [
       "days_since_last_command    220.488492\n",
       "dtype: float64"
      ]
     },
     "execution_count": 50,
     "metadata": {},
     "output_type": "execute_result"
    }
   ],
   "source": [
    "last_regular.mean()"
   ]
  },
  {
   "cell_type": "code",
   "execution_count": 51,
   "metadata": {},
   "outputs": [
    {
     "data": {
      "text/plain": [
       "days_since_last_command    238.244096\n",
       "dtype: float64"
      ]
     },
     "execution_count": 51,
     "metadata": {},
     "output_type": "execute_result"
    }
   ],
   "source": [
    "last_non_regular.mean()"
   ]
  },
  {
   "cell_type": "markdown",
   "metadata": {},
   "source": [
    "En moyenne la date du dernier achat est plus **ancien pour les clients non réguliers**."
   ]
  },
  {
   "cell_type": "markdown",
   "metadata": {},
   "source": [
    "# Panier moyen"
   ]
  },
  {
   "cell_type": "code",
   "execution_count": 52,
   "metadata": {},
   "outputs": [],
   "source": [
    "basket_regular = df_regular.groupby(by=[\"customer_unique_id\"]).mean()[\"price\"].to_numpy()\n",
    "basket_regular = pd.DataFrame(basket_regular, columns = {\"Average basket regular\"})\n",
    "basket_no_regular = df_no_regular.groupby(by=[\"customer_unique_id\"]).mean()[\"price\"].to_numpy()\n",
    "basket_no_regular = pd.DataFrame(basket_no_regular, columns = {\"Average basket no regular\"})"
   ]
  },
  {
   "cell_type": "code",
   "execution_count": 53,
   "metadata": {},
   "outputs": [
    {
     "data": {
      "image/png": "[encoded data removed]",
      "text/plain": [
       "<Figure size 432x288 with 1 Axes>"
      ]
     },
     "metadata": {
      "needs_background": "light"
     },
     "output_type": "display_data"
    }
   ],
   "source": [
    "# Compare both distribution\n",
    "fig = sns.kdeplot(basket_regular['Average basket regular'], shade=True, color=\"r\")\n",
    "fig = sns.kdeplot(basket_no_regular['Average basket no regular'], shade=True, color=\"g\")\n",
    "plt.title(\"Average basket\")\n",
    "plt.show()"
   ]
  },
  {
   "cell_type": "markdown",
   "metadata": {},
   "source": [
    "#### Mann-Whitney rank test"
   ]
  },
  {
   "cell_type": "markdown",
   "metadata": {},
   "source": [
    "La panier moyen d'achat est-il le même entre les deux catégorie de clients ?\n",
    "\n",
    "Hypothèse:\n",
    "* H0: Les distributions sont égales\n",
    "* H1: Les distributions ne sont pas égales"
   ]
  },
  {
   "cell_type": "code",
   "execution_count": 54,
   "metadata": {},
   "outputs": [
    {
     "name": "stdout",
     "output_type": "stream",
     "text": [
      "Statistics=102620415.000, p=0.012433270664171464\n",
      "Different distribution (reject H0)\n"
     ]
    }
   ],
   "source": [
    "rootline_mannwhitneyu(basket_regular['Average basket regular'].to_numpy(), \n",
    "                      basket_no_regular['Average basket no regular'].to_numpy())"
   ]
  },
  {
   "cell_type": "code",
   "execution_count": 55,
   "metadata": {},
   "outputs": [
    {
     "data": {
      "text/plain": [
       "91.67850081727133"
      ]
     },
     "execution_count": 55,
     "metadata": {},
     "output_type": "execute_result"
    }
   ],
   "source": [
    "basket_regular['Average basket regular'].mean()"
   ]
  },
  {
   "cell_type": "code",
   "execution_count": 56,
   "metadata": {},
   "outputs": [
    {
     "data": {
      "text/plain": [
       "95.30561116764994"
      ]
     },
     "execution_count": 56,
     "metadata": {},
     "output_type": "execute_result"
    }
   ],
   "source": [
    "basket_no_regular['Average basket no regular'].mean()"
   ]
  },
  {
   "cell_type": "markdown",
   "metadata": {},
   "source": [
    "**Les clients non réguliers** ont en moyenne un panier plus important."
   ]
  },
  {
   "cell_type": "markdown",
   "metadata": {},
   "source": [
    "# Export des données nettoyées "
   ]
  },
  {
   "cell_type": "code",
   "execution_count": 57,
   "metadata": {},
   "outputs": [],
   "source": [
    "df.to_csv(\"clean_achat_data.csv\")"
   ]
  }
 ],
 "metadata": {
  "kernelspec": {
   "display_name": "Python 3",
   "language": "python",
   "name": "python3"
  },
  "language_info": {
   "codemirror_mode": {
    "name": "ipython",
    "version": 3
   },
   "file_extension": ".py",
   "mimetype": "text/x-python",
   "name": "python",
   "nbconvert_exporter": "python",
   "pygments_lexer": "ipython3",
   "version": "3.8.5"
  }
 },
 "nbformat": 4,
 "nbformat_minor": 4
}
