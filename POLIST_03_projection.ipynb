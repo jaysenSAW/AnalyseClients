{
 "cells": [
  {
   "cell_type": "markdown",
   "metadata": {},
   "source": [
    "Votre mission est d’aider les équipes d’Olist à comprendre les différents types d'utilisateurs. Vous utiliserez donc des méthodes non supervisées pour regrouper ensemble des clients de profils similaires. Ces catégories pourront être utilisées par l’équipe marketing pour mieux communiquer.\n",
    "\n",
    "Votre client, Olist, a spécifié sa demande ainsi :\n",
    "* La segmentation proposée doit être exploitable et facile d’utilisation pour l’équipe marketing.\n",
    "* Vous évaluerez la fréquence à laquelle la segmentation doit être mise à jour, afin de pouvoir effectuer un devis de contrat de maintenance.\n",
    "* Le code fourni doit respecter la convention PEP8, pour être utilisable par Olist."
   ]
  },
  {
   "cell_type": "code",
   "execution_count": null,
   "metadata": {},
   "outputs": [],
   "source": [
    "import numpy as np\n",
    "import matplotlib.pyplot as plt\n",
    "import seaborn as sns\n",
    "import pandas as pd\n",
    "import os\n",
    "pd.set_option('display.max_columns', None)\n",
    "from sklearn import preprocessing\n",
    "from sklearn import decomposition\n",
    "import plotly\n",
    "import plotly.express as px\n",
    "from mpl_toolkits.mplot3d import Axes3D\n",
    "from matplotlib.ticker import NullFormatter\n",
    "from sklearn.manifold import Isomap\n",
    "from sklearn.manifold import LocallyLinearEmbedding\n",
    "from scipy.stats import mannwhitneyu\n",
    "from sklearn.cluster import DBSCAN\n",
    "from sklearn.metrics import silhouette_score\n",
    "from sklearn.model_selection import StratifiedShuffleSplit\n",
    "from sklearn.cluster import KMeans"
   ]
  },
  {
   "cell_type": "code",
   "execution_count": null,
   "metadata": {},
   "outputs": [],
   "source": [
    "def compare_time(timeSerie, referenceTime = None):\n",
    "    \"\"\"\n",
    "    Difference between 2 time series\n",
    "    Return \n",
    "        time series (days)\n",
    "    \"\"\"\n",
    "    if referenceTime is None:\n",
    "        referenceTime = pd.Timestamp.today()\n",
    "    return referenceTime - timeSerie "
   ]
  },
  {
   "cell_type": "code",
   "execution_count": null,
   "metadata": {},
   "outputs": [],
   "source": [
    "def PCA_graph(df_X, pca, dim1, dim2, title = None, path = None):\n",
    "    pcs = pca.components_\n",
    "    f, ax = plt.subplots(figsize=(10, 10))\n",
    "    for i, (x, y) in enumerate(zip(pcs[dim1, :], pcs[dim2, :])):\n",
    "        # Afficher un segment de l'origine au point (x, y)\n",
    "        plt.plot([0, x], [0, y], color='k')\n",
    "        # Afficher le nom (data.columns[i]) de la performance\n",
    "        plt.text(x, y, df_X.columns[i], fontsize='14')\n",
    "    # Afficher une ligne horizontale y=0\n",
    "    plt.plot([-1, 1], [0, 0], color='grey', ls='--')\n",
    "    # Afficher une ligne verticale x=0\n",
    "    plt.plot([0, 0], [-1, 1], color='grey', ls='--')\n",
    "    plt.xlim([-1, 1])\n",
    "    plt.ylim([-1, 1])\n",
    "    plt.xlabel(\"PC {0}\".format(dim1+1))\n",
    "    plt.ylabel(\"PC {0}\".format(dim2+1))\n",
    "    if title is not None:\n",
    "        plt.title(title)\n",
    "    if path is not None:\n",
    "        plt.savefig(path)\n",
    "    plt.show()"
   ]
  },
  {
   "cell_type": "code",
   "execution_count": null,
   "metadata": {},
   "outputs": [],
   "source": [
    "# projeter X sur les composantes principales\n",
    "def plot_composant(df_X, X_projected, dim1, dim2, label, limit = 10, title = None, path = None):\n",
    "    \"\"\"\n",
    "    Project data on PCA matrix and display it.\n",
    "    Arguments:\n",
    "        df_X: data frame with raw values (use for colorization)\n",
    "        X_scaled: scaled matrix\n",
    "        pca: scikit learn objet\n",
    "        dim1: dimension use (int)\n",
    "        dim2: dimension use (int)\n",
    "        label: df_X feature use to colorize points\n",
    "        limit: axis limit (int)\n",
    "    \"\"\"\n",
    "    #X_projected = pca.transform(X_scaled)\n",
    "    # afficher chaque observation\n",
    "    plt.xlim([-limit, limit])\n",
    "    plt.ylim([-limit, limit])\n",
    "    plt.scatter(X_projected[:, dim1], X_projected[:, dim2],\n",
    "        # colorer en utilisant la variable 'Rank'\n",
    "        c=df_X.get(label), alpha = 0.2)\n",
    "    plt.plot([-limit, limit], [0,0], color =\"black\")\n",
    "    plt.plot([0,0], [-limit, limit], color =\"black\")\n",
    "    cbar = plt.colorbar()\n",
    "    #cbar.ax.get_yaxis().set_ticks([])\n",
    "    cbar.ax.get_yaxis().labelpad = 10\n",
    "    cbar.ax.set_ylabel(label, rotation=90)\n",
    "    if title is not None:\n",
    "        plt.title(title, size =18)\n",
    "    if path is not None:\n",
    "        plt.savefig(path)\n",
    "    plt.show()"
   ]
  },
  {
   "cell_type": "code",
   "execution_count": null,
   "metadata": {},
   "outputs": [],
   "source": [
    "def proj3D_PCA(df_X, pca, label):\n",
    "    \"\"\"\n",
    "    Realize a PCA on df_X and add a colone (for colorization)\n",
    "    Arguments:\n",
    "        _df_X: data Frame\n",
    "        _pca: PCA matrix (sklearn PCA) use to project values\n",
    "        _label: dimension used for color\n",
    "    Return:\n",
    "        proj_data\n",
    "    \"\"\"\n",
    "    #normalize data\n",
    "    std_scale = preprocessing.StandardScaler().fit(df_X)\n",
    "    X_scaled = std_scale.transform(df_X)\n",
    "    #projet data\n",
    "    X_projected = pca.transform(X_scaled)\n",
    "    #dimension used for colorization\n",
    "    color = df_X[label].to_numpy()\n",
    "    #create data frame and add color vector\n",
    "    proj_data = np.concatenate((X_projected, np.reshape(color, [-1, 1])), axis=1)\n",
    "    proj_data = pd.DataFrame(proj_data)\n",
    "    col = proj_data.shape[1] - 1\n",
    "    return proj_data.rename(columns = {col : label})"
   ]
  },
  {
   "cell_type": "code",
   "execution_count": null,
   "metadata": {},
   "outputs": [],
   "source": [
    "def scatter_plot(dt, label1, label2, title, path = None):\n",
    "    x = dt.loc[:,label1].to_numpy()\n",
    "    y = dt.loc[:,label2].to_numpy()\n",
    "    sns.jointplot(data=dt, x = label1, y= label2,  marker=\"+\", s=100, marginal_kws=dict(bins=60))\n",
    "    #sns.jointplot(data=dt, x = label1, y= label2, kind=\"kde\")\n",
    "    plt.title(title, size = 20)\n",
    "    if path is not None:\n",
    "        plt.savefig(path)\n",
    "    #ax.legend(loc='best')\n",
    "    plt.show()"
   ]
  },
  {
   "cell_type": "code",
   "execution_count": null,
   "metadata": {},
   "outputs": [],
   "source": [
    "def rootline_mannwhitneyu(X1, X2, alpha = 0.05):\n",
    "    \"\"\"\n",
    "    Non parametric test. Compare two distribution\n",
    "    Hypothesis:\n",
    "        H0: Sample distribution are equal\n",
    "        H1: Sample distribution are not equal\n",
    "    Arguments:\n",
    "        X1: first sample (1D array)\n",
    "        X2: second sample (1D array)\n",
    "        alpha: risk (to reject or no H0)\n",
    "    \"\"\"\n",
    "    stat, p = mannwhitneyu(X1, X2)\n",
    "    print('Statistics={0:.3f}, p={1}'.format(stat, p))\n",
    "    # interpret\n",
    "    alpha = 0.05\n",
    "    if p > alpha:\n",
    "        print('Same distribution (fail to reject H0)')\n",
    "    else:\n",
    "        print('Different distribution (reject H0)')\n",
    "\n",
    "\n"
   ]
  },
  {
   "cell_type": "markdown",
   "metadata": {},
   "source": [
    "# Importation des données"
   ]
  },
  {
   "cell_type": "code",
   "execution_count": null,
   "metadata": {},
   "outputs": [],
   "source": [
    "#on spécifie les colonnes qui correspodnent à des dates\n",
    "df = pd.read_csv(\"clean_achat_data.csv\", infer_datetime_format = True, parse_dates = [6,7])\n",
    "df.describe()"
   ]
  },
  {
   "cell_type": "code",
   "execution_count": null,
   "metadata": {},
   "outputs": [],
   "source": [
    "df.head(3)"
   ]
  },
  {
   "cell_type": "markdown",
   "metadata": {},
   "source": [
    "# Normalisation des données"
   ]
  },
  {
   "cell_type": "code",
   "execution_count": null,
   "metadata": {},
   "outputs": [],
   "source": [
    "#df.iloc[:,-11:].head()\n",
    "data = df[[\"price\", \"freight_proportion_price\", \"payment_installments\",\n",
    "    \"weight\", \"quantity\", \"delay\", \"days_since_last_command\",\n",
    "    \"boleto\", \"credit_card\", \"voucher_debit_card\"]]"
   ]
  },
  {
   "cell_type": "code",
   "execution_count": null,
   "metadata": {},
   "outputs": [],
   "source": [
    "df_X = data\n",
    "print(df_X.shape)\n",
    "std_scale = preprocessing.StandardScaler().fit(df_X)\n",
    "X_scaled = std_scale.transform(df_X)"
   ]
  },
  {
   "cell_type": "code",
   "execution_count": null,
   "metadata": {},
   "outputs": [],
   "source": [
    "#Distribution des variables\n",
    "labels = data.columns\n",
    "for i in range(len(labels)):\n",
    "    sns.kdeplot(X_scaled[:,i], bw=0.5)\n",
    "    plt.title(labels[i])\n",
    "    plt.show()\n"
   ]
  },
  {
   "cell_type": "markdown",
   "metadata": {},
   "source": [
    "# Structure globale"
   ]
  },
  {
   "cell_type": "markdown",
   "metadata": {},
   "source": [
    "## PCA"
   ]
  },
  {
   "cell_type": "code",
   "execution_count": null,
   "metadata": {},
   "outputs": [],
   "source": [
    "pca = decomposition.PCA(n_components=10)\n",
    "pca.fit(X_scaled)"
   ]
  },
  {
   "cell_type": "code",
   "execution_count": null,
   "metadata": {},
   "outputs": [],
   "source": [
    "print(pca.explained_variance_ratio_)\n",
    "print(pca.explained_variance_ratio_[0:5].sum())"
   ]
  },
  {
   "cell_type": "markdown",
   "metadata": {},
   "source": [
    "### Variance expliquée"
   ]
  },
  {
   "cell_type": "code",
   "execution_count": null,
   "metadata": {},
   "outputs": [],
   "source": [
    "#contribution cumulée des composantes\n",
    "dimensions = np.arange(len(pca.explained_variance_ratio_))\n",
    "contribution = []\n",
    "for i in range(len(pca.explained_variance_ratio_)):\n",
    "    if i == 0:\n",
    "        contribution.append(pca.explained_variance_ratio_[i])\n",
    "    else:\n",
    "        contribution.append(contribution[i-1] + pca.explained_variance_ratio_[i])"
   ]
  },
  {
   "cell_type": "code",
   "execution_count": null,
   "metadata": {},
   "outputs": [],
   "source": [
    "plt.plot(dimensions+1,contribution, \"-+\")\n",
    "plt.title(\"PCA\", size = 20)\n",
    "plt.ylabel(\"Variance expliquée\", size = 18)\n",
    "plt.ylim(0,1.1)\n",
    "plt.xlabel(\"Dimension\", size = 18)\n",
    "plt.show()"
   ]
  },
  {
   "cell_type": "markdown",
   "metadata": {},
   "source": [
    "5 composantes suffisent pour décrire 72% de la variabilité de notre jeu de données.\n",
    "La première et seconde composantes expliquent respectivement 23.1% et 17.0% de la variabilité et 11.7%, 10.7% et 9.5% pour les composantes 3, 4 et 5."
   ]
  },
  {
   "cell_type": "markdown",
   "metadata": {},
   "source": [
    "# Visualisation PCA"
   ]
  },
  {
   "cell_type": "markdown",
   "metadata": {},
   "source": [
    "## Composante 1 et 2"
   ]
  },
  {
   "cell_type": "code",
   "execution_count": null,
   "metadata": {},
   "outputs": [],
   "source": [
    "PCA_graph(df_X, pca, dim1 = 0, dim2 = 1, title = \"Projection des composantes 1 et 2\")"
   ]
  },
  {
   "cell_type": "code",
   "execution_count": null,
   "metadata": {},
   "outputs": [],
   "source": [
    "plot_composant(df_X, pca.transform(X_scaled), 0, 1, 'credit_card', title = \"ACP: composante 1 et 2\")"
   ]
  },
  {
   "cell_type": "code",
   "execution_count": null,
   "metadata": {},
   "outputs": [],
   "source": [
    "plot_composant(df_X, pca.transform(X_scaled), 0, 1, 'freight_proportion_price', title = \"ACP: composante 1 et 2\")"
   ]
  },
  {
   "cell_type": "markdown",
   "metadata": {},
   "source": [
    "Les deux premières composantes ne sont pas fortement corrélées avec une des variables utilisées.\n",
    "La composante 1 explique 50% du paiement par carte de crédit.\n",
    "Les commandes sont spérarés via la diagonal des composantes, suivant leur prix et frais de port."
   ]
  },
  {
   "cell_type": "markdown",
   "metadata": {},
   "source": [
    "## Composante 2 et 3"
   ]
  },
  {
   "cell_type": "code",
   "execution_count": null,
   "metadata": {},
   "outputs": [],
   "source": [
    "PCA_graph(df_X, pca, 1, 2)"
   ]
  },
  {
   "cell_type": "code",
   "execution_count": null,
   "metadata": {},
   "outputs": [],
   "source": [
    "plot_composant(df_X, pca.transform(X_scaled), 1, 2, 'delay' , title = \"ACP: composante 2 et 3\", limit = 17)"
   ]
  },
  {
   "cell_type": "code",
   "execution_count": null,
   "metadata": {},
   "outputs": [],
   "source": [
    "plot_composant(df_X, pca.transform(X_scaled), 1, 2, 'review_score' , title = \"ACP: composante 2 et 3\", limit = 17)"
   ]
  },
  {
   "cell_type": "markdown",
   "metadata": {},
   "source": [
    "La composante 3 est corrélée avec le prix"
   ]
  },
  {
   "cell_type": "markdown",
   "metadata": {},
   "source": [
    "## Composante 3 et 4"
   ]
  },
  {
   "cell_type": "code",
   "execution_count": null,
   "metadata": {},
   "outputs": [],
   "source": [
    "PCA_graph(df_X, pca, 2, 3)"
   ]
  },
  {
   "cell_type": "code",
   "execution_count": null,
   "metadata": {},
   "outputs": [],
   "source": [
    "plot_composant(df_X, pca.transform(X_scaled), 2, 3, 'voucher_debit_card', title = \"ACP: composante 3 et 4\", limit = 12)"
   ]
  },
  {
   "cell_type": "markdown",
   "metadata": {},
   "source": [
    "La 4ième composante est en lien avec la variable **voucher debit card**.\n",
    "97% des clients ont effectué des achats avec un autre moyen de paiement."
   ]
  },
  {
   "cell_type": "markdown",
   "metadata": {},
   "source": [
    "## Composante 4 et 5"
   ]
  },
  {
   "cell_type": "code",
   "execution_count": null,
   "metadata": {},
   "outputs": [],
   "source": [
    "PCA_graph(df_X, pca, 3, 4)"
   ]
  },
  {
   "cell_type": "code",
   "execution_count": null,
   "metadata": {},
   "outputs": [],
   "source": [
    "plot_composant(df_X, pca.transform(X_scaled), 3, 4, 'quantity', title = \"ACP: composante 4 et 5\", limit = 15)"
   ]
  },
  {
   "cell_type": "markdown",
   "metadata": {},
   "source": [
    "La composante 5 est liée au nombre de jours écoulés depuis le dernier achat."
   ]
  },
  {
   "cell_type": "code",
   "execution_count": null,
   "metadata": {},
   "outputs": [],
   "source": [
    "#Recap des dimensions d'intérêts\n",
    "\"price\"\n",
    "\"credit_card\"\n",
    "\"delay\"\n",
    "\"voucher_debit_card\"\n",
    "\"quantity\""
   ]
  },
  {
   "cell_type": "markdown",
   "metadata": {},
   "source": [
    "## Projection 3D"
   ]
  },
  {
   "cell_type": "code",
   "execution_count": null,
   "metadata": {},
   "outputs": [],
   "source": [
    "df_X.head(1)"
   ]
  },
  {
   "cell_type": "markdown",
   "metadata": {},
   "source": [
    "### Composante 1, 2 et 3"
   ]
  },
  {
   "cell_type": "code",
   "execution_count": null,
   "metadata": {},
   "outputs": [],
   "source": [
    "#réalise une réduction de dimension par ACP des données et renvoie un data frame\n",
    "#avec les projection des données et une colonne supplémentaire correspondant à la\n",
    "#dimension (non normalisée) utilisée pour la coloration.\n",
    "proj_price = proj3D_PCA(df_X, pca, 'price')\n",
    "fig = px.scatter_3d(proj_price, x=0, y=1, z=2, color='price', opacity=0.2,  size_max=0.5)\n",
    "fig.update_layout(margin=dict(l=0, r=0, b=0, t=0))"
   ]
  },
  {
   "cell_type": "code",
   "execution_count": null,
   "metadata": {},
   "outputs": [],
   "source": [
    "proj_delay = proj3D_PCA(df_X, pca, 'delay')\n",
    "fig = px.scatter_3d(proj_delay, x=0, y=1, z=2, color='delay', opacity=0.2,  size_max=0.5)\n",
    "fig.update_layout(margin=dict(l=0, r=0, b=0, t=0))"
   ]
  },
  {
   "cell_type": "code",
   "execution_count": null,
   "metadata": {},
   "outputs": [],
   "source": [
    "sns.histplot(data=df, x=\"credit_card\", kde=True)\n",
    "plt.show()\n",
    "proj_credit_card = proj3D_PCA(df_X, pca, 'credit_card')\n",
    "fig = px.scatter_3d(proj_credit_card, x=0, y=1, z=2, color='credit_card', opacity=0.2,  size_max=0.5)\n",
    "fig.update_layout(margin=dict(l=0, r=0, b=0, t=0))\n"
   ]
  },
  {
   "cell_type": "code",
   "execution_count": null,
   "metadata": {},
   "outputs": [],
   "source": [
    "sns.histplot(data=df, x=\"voucher_debit_card\", kde=True)\n",
    "plt.show()\n",
    "proj_voucher = proj3D_PCA(df_X, pca, 'voucher_debit_card')\n",
    "fig = px.scatter_3d(proj_voucher, x=0, y=1, z=2, color='voucher_debit_card', opacity=0.2,  size_max=0.5)\n",
    "fig.update_layout(margin=dict(l=0, r=0, b=0, t=0))"
   ]
  },
  {
   "cell_type": "markdown",
   "metadata": {},
   "source": [
    "### Composante 1, 2 et 4"
   ]
  },
  {
   "cell_type": "code",
   "execution_count": null,
   "metadata": {},
   "outputs": [],
   "source": [
    "fig = px.scatter_3d(proj_voucher, x=0, y=1, z=3, color='voucher_debit_card', opacity=0.2,  size_max=0.5)\n",
    "fig.update_layout(margin=dict(l=0, r=0, b=0, t=0))"
   ]
  },
  {
   "cell_type": "markdown",
   "metadata": {},
   "source": [
    "### Composante 2, 3 et 4"
   ]
  },
  {
   "cell_type": "code",
   "execution_count": null,
   "metadata": {},
   "outputs": [],
   "source": [
    "fig = px.scatter_3d(proj_voucher, x=1, y=2, z=3, color='voucher_debit_card', opacity=0.2,  size_max=0.5)\n",
    "fig.update_layout(margin=dict(l=0, r=0, b=0, t=0))"
   ]
  },
  {
   "cell_type": "code",
   "execution_count": null,
   "metadata": {},
   "outputs": [],
   "source": [
    "\"price\"\n",
    "\"credit_card\"\n",
    "\"delay\"\n",
    "\"voucher_debit_card\"\n",
    "\"quantity\"\n",
    "df_X.head(3)"
   ]
  },
  {
   "cell_type": "markdown",
   "metadata": {},
   "source": [
    "### Composante 2, 4 et 5"
   ]
  },
  {
   "cell_type": "code",
   "execution_count": null,
   "metadata": {},
   "outputs": [],
   "source": [
    "fig = px.scatter_3d(proj_voucher, x=1, y=3, z=4, color='voucher_debit_card', opacity=0.2,  size_max=0.5)\n",
    "fig.update_layout(margin=dict(l=0, r=0, b=0, t=0))"
   ]
  },
  {
   "cell_type": "code",
   "execution_count": null,
   "metadata": {},
   "outputs": [],
   "source": [
    "proj_days = proj3D_PCA(df_X, pca, 'days_since_last_command')\n",
    "fig = px.scatter_3d(proj_days, x=1, y=3, z=4, color='days_since_last_command', opacity=0.2,  size_max=0.5)\n",
    "fig.update_layout(margin=dict(l=0, r=0, b=0, t=0))"
   ]
  },
  {
   "cell_type": "markdown",
   "metadata": {},
   "source": [
    "# Isomap"
   ]
  },
  {
   "cell_type": "markdown",
   "metadata": {},
   "source": [
    "Find a low-dimensional representation of the data (here 2D) in which the distances respect well the distances in the original high-dimensional space"
   ]
  },
  {
   "cell_type": "code",
   "execution_count": null,
   "metadata": {},
   "outputs": [],
   "source": [
    "df.iloc[:,-10:].head(3)"
   ]
  },
  {
   "cell_type": "code",
   "execution_count": null,
   "metadata": {},
   "outputs": [],
   "source": [
    "#utilisation des valeurs standardisées\n",
    "#normalize data\n",
    "lignes = np.random.choice(df.shape[0], 9000,  replace=False)\n",
    "df_X = df.iloc[lignes,-10:]\n",
    "std_scale = preprocessing.StandardScaler().fit(df_X)\n",
    "X_scaled = std_scale.transform(df_X)\n",
    "#reduction dimensionnellle\n",
    "projection = Isomap(n_neighbors = 15, n_components = 2, n_jobs = -1).fit_transform(X_scaled)"
   ]
  },
  {
   "cell_type": "code",
   "execution_count": null,
   "metadata": {},
   "outputs": [],
   "source": [
    "sns.jointplot(x=projection[:,0], y=projection[:,1], kind=\"kde\")\n",
    "plt.show()"
   ]
  },
  {
   "cell_type": "code",
   "execution_count": null,
   "metadata": {
    "scrolled": false
   },
   "outputs": [],
   "source": [
    "def isomap_plot(projection, vect_color, title = \"Isomap\", \n",
    "                c_label = None, vmin = None, vmax = None, \n",
    "                xlim = None, ylim= None, path = None):\n",
    "    \"\"\"\n",
    "    Plot a isomap graphic\n",
    "    Arguments:\n",
    "        data's matrix after isomap transformation\n",
    "        vect_color: list of values use to color points\n",
    "        title: plot title\n",
    "        c_label: color label's title\n",
    "        vmin: lowest value use for color scale\n",
    "        vmax: highest value use for color scale\n",
    "        xlim: X axis limit (list)\n",
    "        ylim: Y axis limit (list)\n",
    "    \"\"\"\n",
    "    fig = plt.figure(figsize=(10, 10))\n",
    "    ax = fig.add_subplot(111)\n",
    "    plt.scatter(projection[:, 0], projection[:, 1], c=vect_color, \n",
    "                alpha = 0.1, vmin = vmin, vmax = vmax)\n",
    "    plt.title(title)\n",
    "    plt.axis('tight')\n",
    "    cbar = plt.colorbar()\n",
    "    if c_label is not None:\n",
    "        cbar.ax.get_yaxis().labelpad = 14\n",
    "        cbar.ax.set_ylabel(c_label, rotation=90)\n",
    "    if xlim is not None:\n",
    "        if len(xlim) != 2:\n",
    "            print(\"expect list of 2 elements for xlim\")\n",
    "        else:\n",
    "            plt.xlim(np.min(xlim), np.max(xlim))\n",
    "    if ylim is not None:\n",
    "        if len(ylim) != 2:\n",
    "            print(\"expect list of 2 elements for ylim\")\n",
    "        else:\n",
    "            plt.ylim(np.min(ylim), np.max(ylim))\n",
    "    if path is not None:\n",
    "        plt.savefig(path)\n",
    "    plt.show()"
   ]
  },
  {
   "cell_type": "code",
   "execution_count": null,
   "metadata": {},
   "outputs": [],
   "source": [
    "vmax = df_X[\"days_since_last_command\"].max()\n",
    "vmin = 0\n",
    "colors = df_X.get(\"days_since_last_command\")\n",
    "isomap_plot(projection, colors, \"Isomap on days since last command\",\n",
    "            'Days since last command', vmax, vmin)"
   ]
  },
  {
   "cell_type": "code",
   "execution_count": null,
   "metadata": {},
   "outputs": [],
   "source": [
    "vmax = df_X[\"payment_value\"].max()\n",
    "vmin = 0\n",
    "colors = df_X.get(\"payment_value\")\n",
    "isomap_plot(projection, colors, \"Isomap on number of payment value\",\n",
    "           \"Payment value\", vmax, vmin)"
   ]
  },
  {
   "cell_type": "code",
   "execution_count": null,
   "metadata": {},
   "outputs": [],
   "source": [
    "vmax = df_X[\"voucher_debit_card\"].max()\n",
    "vmin = 0\n",
    "colors = df_X.get(\"voucher_debit_card\")\n",
    "isomap_plot(projection, colors, \"Isomap on payment type voucher/debit card\",\n",
    "           \"Voucher dbit card\", vmax, vmin)"
   ]
  },
  {
   "cell_type": "markdown",
   "metadata": {},
   "source": [
    "Il y a 3 structures locales qui semblent se dégager. 1 correspondant à des paiements **voucher/debit card** (environ 3% des commandes) et deux structures qui correspondent à d'autres types de paiements."
   ]
  },
  {
   "cell_type": "code",
   "execution_count": null,
   "metadata": {},
   "outputs": [],
   "source": [
    "df_X[\"voucher_debit_card\"].unique()\n",
    "#nombre d'éléments\n",
    "#df_X[\"voucher_debit_card\"].nunique()\n",
    "tmp = df_X[\"voucher_debit_card\"].value_counts(True)\n",
    "tmp.index = np.round(tmp.index,2)\n",
    "tmp.plot.bar()\n",
    "plt.title(\"Proportion of voucher/debit card in payment\")\n",
    "plt.xlabel(\"Ration in total payment\")\n",
    "plt.ylabel(\"Proportion\")\n",
    "plt.show()"
   ]
  },
  {
   "cell_type": "code",
   "execution_count": null,
   "metadata": {
    "scrolled": false
   },
   "outputs": [],
   "source": [
    "#plot limit\n",
    "xlim = [np.min(projection[:,0])-1, np.max(projection[:,0])+1]\n",
    "ylim = [np.min(projection[:,1])-1, np.max(projection[:,1])+1]\n",
    "#color vector\n",
    "col = np.where(df_X.columns == \"voucher_debit_card\")[0]\n",
    "#Display payment made without voucher/debit card\n",
    "tmp = df_X[\"voucher_debit_card\"] == 0\n",
    "indices = np.where(tmp)[0]\n",
    "isomap_plot(projection[indices,:], df_X.iloc[indices,col].values, \n",
    "                \"Isomap for command bought without voucher_debit_card (0.0)\",\n",
    "                vmin = 0, vmax = 1, xlim = xlim, ylim = ylim)\n",
    "#Display payment made with voucher/debit card\n",
    "tmp = df_X[\"voucher_debit_card\"] > 0\n",
    "indices = np.where(tmp)[0]\n",
    "isomap_plot(projection[indices,:], df_X.iloc[indices,col].values, \n",
    "                \"Isomap for command bought with voucher_debit_card (>0.0)\",\n",
    "                vmin = 0, vmax = 1, xlim = xlim, ylim = ylim)"
   ]
  },
  {
   "cell_type": "markdown",
   "metadata": {},
   "source": [
    "# Structure local"
   ]
  },
  {
   "cell_type": "markdown",
   "metadata": {},
   "source": [
    "## Locally Linear Embedding"
   ]
  },
  {
   "cell_type": "code",
   "execution_count": null,
   "metadata": {},
   "outputs": [],
   "source": [
    "def LLE_plot(projection, vect_color, title, vmin = None, vmax = None):\n",
    "    \"\"\"\n",
    "    Display locally Linear Embeding plot\n",
    "    Arguments:\n",
    "        projection: matrix\n",
    "        vect_color: list of values (color points)\n",
    "        title: (str)\n",
    "        vmin: lowest value use for color scale\n",
    "        vmax: highest value use for color scale\n",
    "    \"\"\"\n",
    "    fig = plt.figure(figsize=(10, 8))\n",
    "    ax = fig.add_subplot(111)\n",
    "    plt.scatter(projection[:,0], projection[:,1], c=vect_color, alpha = 0.2,\n",
    "               vmin = vmin, vmax = vmax)\n",
    "    plt.title(title)\n",
    "    plt.colorbar()"
   ]
  },
  {
   "cell_type": "code",
   "execution_count": null,
   "metadata": {},
   "outputs": [],
   "source": [
    "df.iloc[:,-10:].head(3)"
   ]
  },
  {
   "cell_type": "code",
   "execution_count": null,
   "metadata": {},
   "outputs": [],
   "source": [
    "lignes = np.random.choice(df.shape[0], 9000,  replace=False)\n",
    "df_X = df.iloc[lignes,-10:]\n",
    "std_scale = preprocessing.StandardScaler().fit(df_X)\n",
    "X_scaled = std_scale.transform(df_X)\n",
    "#reduction dimensionnellle\n",
    "embedding = LocallyLinearEmbedding(n_components=2, n_neighbors=15, method='modified',\n",
    "                               eigen_solver='dense', max_iter = 10000, n_jobs = -1)\n",
    "projection = embedding.fit_transform(X_scaled)"
   ]
  },
  {
   "cell_type": "code",
   "execution_count": null,
   "metadata": {},
   "outputs": [],
   "source": [
    "sns.jointplot(x=projection[:,0], y=projection[:,1], kind=\"kde\")\n",
    "plt.show()"
   ]
  },
  {
   "cell_type": "code",
   "execution_count": null,
   "metadata": {},
   "outputs": [],
   "source": [
    "LLE_plot(projection, df_X.get(\"payment_value\"), \"LLE on number of payment value\")"
   ]
  },
  {
   "cell_type": "code",
   "execution_count": null,
   "metadata": {},
   "outputs": [],
   "source": [
    "LLE_plot(projection, df_X.get(\"days_since_last_command\"), \"LLE on days since last command\")"
   ]
  },
  {
   "cell_type": "code",
   "execution_count": null,
   "metadata": {},
   "outputs": [],
   "source": [
    "LLE_plot(projection, df_X.get(\"voucher_debit_card\"), \"LLE on voucher and debit card\")"
   ]
  },
  {
   "cell_type": "code",
   "execution_count": null,
   "metadata": {},
   "outputs": [],
   "source": [
    "col = np.where(df_X.columns == \"voucher_debit_card\")[0]\n",
    "#Display points as function of voucher_debit_card's values\n",
    "for val in pd.unique(df_X[\"voucher_debit_card\"].values):\n",
    "    tmp = df_X[\"voucher_debit_card\"] == val\n",
    "    indices = np.where(tmp)[0]\n",
    "    LLE_plot(projection[indices,:], df_X.iloc[indices,col].values, \"Isomap on voucher_debit_card\", 0, 1)"
   ]
  },
  {
   "cell_type": "markdown",
   "metadata": {},
   "source": [
    "## Conclusion"
   ]
  },
  {
   "cell_type": "markdown",
   "metadata": {},
   "source": [
    "Il y a 3 structures globales et locales défini par la valeur prise par **voucher_debit_card**.\n",
    "Cependant ce n'est pas suffisant pour séparer correctement les clients, puisque les deux premiers groupes représentent 97% des individus."
   ]
  }
 ],
 "metadata": {
  "kernelspec": {
   "display_name": "Python 3",
   "language": "python",
   "name": "python3"
  },
  "language_info": {
   "codemirror_mode": {
    "name": "ipython",
    "version": 3
   },
   "file_extension": ".py",
   "mimetype": "text/x-python",
   "name": "python",
   "nbconvert_exporter": "python",
   "pygments_lexer": "ipython3",
   "version": "3.8.5"
  }
 },
 "nbformat": 4,
 "nbformat_minor": 4
}
